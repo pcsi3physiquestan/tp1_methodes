{
 "cells": [
  {
   "cell_type": "markdown",
   "id": "1af126d8",
   "metadata": {},
   "source": [
    "La page ci-présente existe en version notebook téléchargeable grâce au bouton ![Bouton](./images/bouton_tl.png) (choisir le format `.ipynb`). On rappelle qu'l faut ensuite l'enregistrer dans un répertoire adéquat sur votre ordinateur (`tp1` par exemple dans votre répertoire personnel) puis lancer Jupyter Notebook depuis Anaconda pour accéder au notebook, le modifier et exécutez les cellules de code adéquates."
   ]
  },
  {
   "cell_type": "markdown",
   "id": "50ba3417",
   "metadata": {},
   "source": [
    "# (TP) Application au tracé graphique (1h)"
   ]
  },
  {
   "cell_type": "markdown",
   "id": "648b1581",
   "metadata": {},
   "source": [
    "## Analyse de la relation durée-distance"
   ]
  },
  {
   "cell_type": "markdown",
   "id": "f4376982",
   "metadata": {},
   "source": [
    "### Votre travail\n",
    "Vous aller devoir exploiter non plus une mesure de temps de vol pour une distance émetteur-récepteur mais regrouper l'ensemble de résultats de mesure\n",
    "des groupes de TP pour affiner votre mesure de la célérité.\n",
    "\n",
    "Pour pouvoir tester votre code, des données expérimentales __fictives__ sont entrées dans la cellule suivante.\n",
    "En TP, vous récupérerez l'ensemble des données de mesure des différents binômes et modifierez ces listes."
   ]
  },
  {
   "cell_type": "code",
   "execution_count": 1,
   "id": "5e99dfe2",
   "metadata": {
    "tags": [
     "remove-output",
     "hide-input"
    ]
   },
   "outputs": [],
   "source": [
    "import numpy as np  # Pensez à l'alias de la bibliothèques numpy pour la suite.\n",
    "import matplotlib.pyplot as plt\n",
    "\"\"\"Données expérimentales\n",
    "\n",
    "Pensez à entre les 4 listes dans le même ordre.\n",
    "\"\"\"\n",
    "d = np.array([10, 20, 30])  # Liste des distances E-R (en cm - évitez les nombres trop petits)\n",
    "ud = np.array([0.15, 0.26, 0.16])  # Liste des incertitudes sur d\n",
    "dt = np.array([30, 60, 90])  # Liste des temps de vol (en ms)\n",
    "udt = np.array([5.4, 5.8, 4.6])  # Liste des incertitudes sur Delta t"
   ]
  },
  {
   "cell_type": "markdown",
   "id": "37ef67e7",
   "metadata": {},
   "source": [
    "### C'est à vous."
   ]
  },
  {
   "cell_type": "markdown",
   "id": "544c85d8",
   "metadata": {},
   "source": [
    "#### Codage\n",
    "C'est à vous de coder maintenant la cellule suivante est entièrement à votre disposition. Vous devez obtenir en sortie\n",
    "le graphique représentant $\\Delta t$ en fonction $d$.\n",
    "\n",
    "Pensez bien :\n",
    "* aux légendes du graphiques\n",
    "* aux barres d'incertitudes\n",
    "\n",
    "_On rappelle que les vecteurs contenant les données ont déjà été créé dans la première cellule : `d, ud, dt, udt`. Pensez à utiliser le [modèle](https://pcsi3physiquestan.github.io/intro_python/notebook/plt_presentation.html#un-exemple-basique)._"
   ]
  },
  {
   "cell_type": "code",
   "execution_count": 2,
   "id": "c72b607d",
   "metadata": {
    "tags": [
     "remove-output",
     "hide-input"
    ]
   },
   "outputs": [
    {
     "data": {
      "text/plain": [
       "'Votre code\\n\\nA vous de coder le graphique à tracer.\\n'"
      ]
     },
     "execution_count": 2,
     "metadata": {},
     "output_type": "execute_result"
    }
   ],
   "source": [
    "\"\"\"Votre code\n",
    "\n",
    "A vous de coder le graphique à tracer.\n",
    "\"\"\"\n",
    "# Créer la fenêtre graphique avec subplots\n",
    "\n",
    "# Donner un titre (f.suptitle) et des légendes (ax.set_xlabel et ax.set_ylabel)\n",
    "\n",
    "# Tracer la courbe Delta t (D) avec errorbar\n",
    "\n",
    "# Afficher une grille (ax.grid) et afficher le graphique (plt.show)"
   ]
  },
  {
   "cell_type": "markdown",
   "id": "a9b4d172",
   "metadata": {},
   "source": [
    "#### Première analyse des données.\n",
    "Lorsque vous aurez obtenu le graphique des données expérimentales réelles, analysez le :\n",
    "\n",
    "* Que cherche-t-on à observer ?\n",
    "* Observe-t-on ce qu'on attend ?\n",
    "* Si oui, tant mieux, sinon essayez de comprendre où sont les problèmes.\n",
    "\n",
    "Ecrire alors le compte-rendu de votre analyse."
   ]
  },
  {
   "cell_type": "markdown",
   "id": "3ed1a8df",
   "metadata": {},
   "source": [
    "## (TP) Détermination des valeurs de la célérité\n",
    "\n",
    "Quand on est face à une série de mesures, il y a deux analyses à réaliser en général:\n",
    "* déterminer une mesure basées sur la série. On peut utiliser plusieurs méthodes mais on va ici simplement utiliser un calcul de moyenne des valeurs. On peut alors estimer l'incertitude de mesure comme étant l'incertitude sur la moyenne d'un échantillon.\n",
    "* Vérifier (au moins _a posteriori_) que les mesures sont cohérentes entre elles (plus simplement ici avec la moyennes estimées)."
   ]
  },
  {
   "cell_type": "markdown",
   "id": "cfcc6356",
   "metadata": {},
   "source": [
    "### Estimation de la célérité.\n",
    "Cette partie va nous amener:\n",
    "1. à estimer la célérité pour chaque couple de mesure. \n",
    "2. à réaliser ensuite la moyenne des mesures. \n",
    "3. à estimer l'incertitude comme pour un étude statistique (Type A):\n",
    "\n",
    "$$\n",
    "u(c_{moy}) = \\frac{\\sigma(echantillon)}{\\sqrt{nombre_echantillons}}\n",
    "$$\n",
    "où $sigma$ est l'écart-type statistique calculé sur la série de mesures (réelles ici et non simulées !).\n",
    "\n",
    "Détecter et modifier les lignes lorsque c'est nécessaire."
   ]
  },
  {
   "cell_type": "code",
   "execution_count": 3,
   "id": "8a4b352f",
   "metadata": {
    "tags": [
     "remove-output",
     "hide-input"
    ]
   },
   "outputs": [
    {
     "name": "stdout",
     "output_type": "stream",
     "text": [
      "c = 0 +/-\n"
     ]
    }
   ],
   "source": [
    "\"\"\"\n",
    "Estimation des celerites pour chaque mesures\n",
    "\"\"\"\n",
    "c_ms = [0] * len(d)  # d et dt sont des vecteurs numpy : pensez à utiliser la vectorialisation.\n",
    "\n",
    "\"\"\"\n",
    "Calculer la célérité moyenne.\n",
    "Utiliser la fonction np.mean(vecteur:ndarray) -> float pour calculer une moyenne en une seule ligne.\n",
    "\"\"\"\n",
    "c_mean = 0\n",
    "\n",
    "\"\"\"\n",
    "Calculer l'incertitude sur c_mean en utilisant la relation donnée.\n",
    "On rappelle quie l'écart-type se calcule avec la fonction numpy.std(echantillon: ndarray, ddof=1) -> float\n",
    "\"\"\"\n",
    "c_u = 0\n",
    "\n",
    "print(\"c = {} +/-\".format(c_mean, c_u))"
   ]
  },
  {
   "cell_type": "markdown",
   "id": "0072fbdd",
   "metadata": {},
   "source": [
    "__Rendre compte de la valeur estimée en n'oubliant pas l'unité et la réflexion sur les chiffres significatifs.__\n",
    "\n",
    "### Test de cohérence des données.\n",
    "Pour tester la cohérence des données, on va tester la cohérence entre la mesure de $c$ pour chaque échantillon et la moyenne précédente. On connait déjà une méthode pour le faire : un calcul d'écart normalisé. Ainsi, on pourra, si nécessaire écarter ou au moins commenter une mesure qui semblerait incohérente.\n",
    "\n",
    "On possède déjà les mesures des célérités `c_ms`, la célérité moyenne `c_mean` et son incertitude `c_u`, il manque l'incertitude sur mesure unique de célérité. On va reprendre la même méthode que pour la mesure unique de la partie précédente, mais pour gagner du temps, on part directement de $d, u(d), \\Delta t, u(\\Delta t)$ donnée et on va __utiliser des distributions uniformes.__ Donc:\n",
    "1. On boucle sur le nombre d'échantillons:\n",
    "    1. On simule N valeurs de $d$ et $\\Delta t$ pour le j-ième échantillon et on en déduit N valeurs de c puis son incertitude. (Utiliser la méthode 3 qui est beaucoup plus rapide).\n",
    "    2. On stocke l'incertitude obtenue dans une liste `c_us` qu'on aura préalablement initialisée.\n",
    "    3. On calculer l'écart-normalisé entre le j-ième échantillon et la moyenne qu'on stocke dans une liste `en_s`\n",
    "2. On représente les valeurs des écarts normalisés sur un graphique qu'on analuse ensuite."
   ]
  },
  {
   "cell_type": "code",
   "execution_count": 4,
   "id": "fc9cc7ea",
   "metadata": {
    "tags": [
     "remove-output",
     "hide-input"
    ]
   },
   "outputs": [
    {
     "name": "stdout",
     "output_type": "stream",
     "text": [
      "[0, 0, 0]\n"
     ]
    },
    {
     "data": {
      "image/png": "[encoded data removed]",
      "text/plain": [
       "<Figure size 640x480 with 1 Axes>"
      ]
     },
     "metadata": {
      "filenames": {
       "image/png": "D:\\cedri\\Dropbox\\Enseignement prepas\\travaux_pratiques\\sources\\tp1_methodes\\_build\\jupyter_execute\\notebook\\exo_graphique_13_1.png"
      }
     },
     "output_type": "display_data"
    }
   ],
   "source": [
    "\"\"\"\n",
    "A vous de compléter la boucle en vous aidant de ce qui a été fait pour une mesure unique.\n",
    "\"\"\"\n",
    "\n",
    "c_us = []\n",
    "en_s = []\n",
    "k = len(d)  # Nombre d'échantillons\n",
    "for j in range(k):\n",
    "    \"\"\" Simuler les valeurs de d et dt puis estimer c et l'incertitude\"\"\"\n",
    "\n",
    "    c_uj = 0\n",
    "    c_us.append(c_uj)\n",
    "    \"\"\"Calculer l ecart normalise a la moyenne\"\"\"\n",
    "    en_j = 0\n",
    "    en_s.append(en_j)\n",
    "\n",
    "print(en_s)  # Pour vérifier ce qu'il y a dedans\n",
    "\n",
    "\"\"\"Tracé eds écart normalisés\"\"\"\n",
    "f, ax = plt.subplots()\n",
    "f.suptitle(\"Coherence des differentes mesures\")\n",
    "ax.set_xlabel(\"Distance (d) (cm)\")\n",
    "ax.set_ylabel(\"EN\")\n",
    "\n",
    "ax.plot(d, en_s, marker=\"+\", linestyle=\"\")  # On ne relit pas les points\n",
    "\n",
    "ax.grid()\n",
    "plt.show()"
   ]
  },
  {
   "cell_type": "markdown",
   "id": "6669b93d",
   "metadata": {},
   "source": [
    "### Analyse des données\n",
    "Réalisez une analyse des valeurs obtenues pour chaque groupe puis de la célérité moyenne en comparaison avec la valeur donnée dans la littérature.\n",
    "\n",
    "\n",
    "### Bonus : Carte de controle\n",
    "On pourrait, au lieu de tracer les ecarts normalisés, tracer une carte de controle qu représente les barres d'incertitudes et la moyenne (avec son incertitudes). Cette méthode est plus visuelle mais attention car les impressions ne correspondent pas tout à fait à ce que donne les EN (cf. TP)."
   ]
  },
  {
   "cell_type": "code",
   "execution_count": 5,
   "id": "8e819342",
   "metadata": {
    "tags": [
     "remove-output",
     "hide-input"
    ]
   },
   "outputs": [
    {
     "name": "stdout",
     "output_type": "stream",
     "text": [
      "3\n"
     ]
    },
    {
     "data": {
      "image/png": "[encoded data removed]",
      "text/plain": [
       "<Figure size 640x480 with 1 Axes>"
      ]
     },
     "metadata": {
      "filenames": {
       "image/png": "D:\\cedri\\Dropbox\\Enseignement prepas\\travaux_pratiques\\sources\\tp1_methodes\\_build\\jupyter_execute\\notebook\\exo_graphique_15_1.png"
      }
     },
     "output_type": "display_data"
    }
   ],
   "source": [
    "f, ax = plt.subplots()\n",
    "f.suptitle(\"Carte de controle des mesures\")\n",
    "ax.set_xlabel(\"Distance (d) (cm)\")\n",
    "ax.set_ylabel(\"EN\")\n",
    "\n",
    "# capsize sert à ajouter des barres aux extrémités simplement par esthétisime.\n",
    "ax.errorbar(d, c_ms, marker=\"+\", linestyle=\"\", yerr=c_us, capsize=2)  # On ne relit pas les points\n",
    "\n",
    "print(len([c_mean - c_u] * len(d)))\n",
    "ax.plot(d, [c_mean] * len(d))  # Tracé de la moyenne\n",
    "ax.plot(d, [c_mean - c_u] * len(d), linestyle=\":\")  # Valeur basse de l'intervalle associée à l'incertitude sur c_mean\n",
    "ax.plot(d, [c_mean + c_u] * len(d), linestyle=\":\")  # Valeur haute de l'intervalle associée à l'incertitude sur c_mean\n",
    "\n",
    "\n",
    "plt.show()"
   ]
  }
 ],
 "metadata": {
  "jupytext": {
   "encoding": "# -*- coding: utf-8 -*-",
   "formats": "ipynb,py:percent",
   "split_at_heading": true,
   "text_representation": {
    "extension": ".md",
    "format_name": "myst",
    "format_version": 0.13,
    "jupytext_version": "1.10.3"
   }
  },
  "kernelspec": {
   "display_name": "Python 3",
   "language": "python",
   "name": "python3"
  },
  "language_info": {
   "codemirror_mode": {
    "name": "ipython",
    "version": 3
   },
   "file_extension": ".py",
   "mimetype": "text/x-python",
   "name": "python",
   "nbconvert_exporter": "python",
   "pygments_lexer": "ipython3",
   "version": "3.9.15"
  },
  "source_map": [
   15,
   20,
   24,
   28,
   37,
   49,
   54,
   66,
   79,
   90,
   99,
   115,
   135,
   149,
   179,
   188
  ]
 },
 "nbformat": 4,
 "nbformat_minor": 5
}