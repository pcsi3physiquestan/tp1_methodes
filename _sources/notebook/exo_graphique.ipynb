{
 "cells": [
  {
   "cell_type": "markdown",
   "id": "economic-bench",
   "metadata": {},
   "source": [
    "La page ci-présente existe en version notebook téléchargeable grâce au bouton ![Bouton](./images/bouton_tl.png) (choisir le format `.ipynb`). On rappelle qu'l faut ensuite l'enregistrer dans un répertoire adéquat sur votre ordinateur (`tp1` par exemple dans votre répertoire personnel) puis lancer Jupyter Notebook depuis Anaconda pour accéder au notebook, le modifier et exécutez les cellules de code adéquates."
   ]
  },
  {
   "cell_type": "markdown",
   "id": "alive-carter",
   "metadata": {},
   "source": [
    "# (TP) Application au tracé graphique"
   ]
  },
  {
   "cell_type": "markdown",
   "id": "cardiac-alabama",
   "metadata": {},
   "source": [
    "## Analyse de la relation durée-distance"
   ]
  },
  {
   "cell_type": "markdown",
   "id": "partial-eugene",
   "metadata": {},
   "source": [
    "### Votre travail\n",
    "Vous aller devoir exploiter non plus une mesure de temps de vol pour une distance émetteur-récepteur mais regrouper l'ensemble de résultats de mesure\n",
    "des groupes de TP pour affiner votre mesure de la célérité.\n",
    "\n",
    "Pour pouvoir tester votre code, des données expérimentales __fictives__ sont entrées dans la cellule suivante.\n",
    "En TP, vous récupérerez l'ensemble des données de mesure des différents binômes et modifierez ces listes."
   ]
  },
  {
   "cell_type": "code",
   "execution_count": 1,
   "id": "arctic-contractor",
   "metadata": {},
   "outputs": [],
   "source": [
    "import numpy as np  # Pensez à l'alias de la bibliothèques numpy pour la suite.\n",
    "\"\"\"Données expérimentales\n",
    "\n",
    "Pensez à entre les 4 listes dans le même ordre.\n",
    "\"\"\"\n",
    "d = np.array([10, 20, 30, 40, 50, 60, 70, 80])  # Liste des distances E-R (en cm - évitez les nombres trop petits)\n",
    "ud = np.array([0.15, 0.26, 0.16, 0.26, 0.14, 0.12, 0.41, 0.32])  # Liste des incertitudes sur d\n",
    "dt = np.array([30, 60, 90, 120, 150, 180, 210, 240])  # Liste des temps de vol (en ms)\n",
    "udt = np.array([5.4, 5.8, 4.6, 6.3, 8.3, 10, 5.1, 3.2])  # Liste des incertitudes sur Delta t"
   ]
  },
  {
   "cell_type": "markdown",
   "id": "behavioral-slovakia",
   "metadata": {},
   "source": [
    "La syntaxe et les fonctions de la cellule ci-dessous ne sont pas à connaître. Vous verrez simplement une façon\n",
    "d'afficher de manière esthétique le tableau des mesures.\n",
    "Observez surtout le choix des arrondis dans les commentaires (il y a un problème pour le 10 de udt)."
   ]
  },
  {
   "cell_type": "code",
   "execution_count": 2,
   "id": "legal-transition",
   "metadata": {},
   "outputs": [
    {
     "data": {
      "text/html": [
       "<style  type=\"text/css\" >\n",
       "</style><table id=\"T_56ef9_\" ><thead>    <tr>        <th class=\"blank level0\" ></th>        <th class=\"col_heading level0 col0\" >d(cm)</th>        <th class=\"col_heading level0 col1\" >u(d)(cm)</th>        <th class=\"col_heading level0 col2\" >Delta t(ms)</th>        <th class=\"col_heading level0 col3\" >u(Delta t)(ms)</th>    </tr></thead><tbody>\n",
       "                <tr>\n",
       "                        <th id=\"T_56ef9_level0_row0\" class=\"row_heading level0 row0\" >0</th>\n",
       "                        <td id=\"T_56ef9_row0_col0\" class=\"data row0 col0\" >10.00</td>\n",
       "                        <td id=\"T_56ef9_row0_col1\" class=\"data row0 col1\" >0.15</td>\n",
       "                        <td id=\"T_56ef9_row0_col2\" class=\"data row0 col2\" >30.0</td>\n",
       "                        <td id=\"T_56ef9_row0_col3\" class=\"data row0 col3\" >5.4</td>\n",
       "            </tr>\n",
       "            <tr>\n",
       "                        <th id=\"T_56ef9_level0_row1\" class=\"row_heading level0 row1\" >1</th>\n",
       "                        <td id=\"T_56ef9_row1_col0\" class=\"data row1 col0\" >20.00</td>\n",
       "                        <td id=\"T_56ef9_row1_col1\" class=\"data row1 col1\" >0.26</td>\n",
       "                        <td id=\"T_56ef9_row1_col2\" class=\"data row1 col2\" >60.0</td>\n",
       "                        <td id=\"T_56ef9_row1_col3\" class=\"data row1 col3\" >5.8</td>\n",
       "            </tr>\n",
       "            <tr>\n",
       "                        <th id=\"T_56ef9_level0_row2\" class=\"row_heading level0 row2\" >2</th>\n",
       "                        <td id=\"T_56ef9_row2_col0\" class=\"data row2 col0\" >30.00</td>\n",
       "                        <td id=\"T_56ef9_row2_col1\" class=\"data row2 col1\" >0.16</td>\n",
       "                        <td id=\"T_56ef9_row2_col2\" class=\"data row2 col2\" >90.0</td>\n",
       "                        <td id=\"T_56ef9_row2_col3\" class=\"data row2 col3\" >4.6</td>\n",
       "            </tr>\n",
       "            <tr>\n",
       "                        <th id=\"T_56ef9_level0_row3\" class=\"row_heading level0 row3\" >3</th>\n",
       "                        <td id=\"T_56ef9_row3_col0\" class=\"data row3 col0\" >40.00</td>\n",
       "                        <td id=\"T_56ef9_row3_col1\" class=\"data row3 col1\" >0.26</td>\n",
       "                        <td id=\"T_56ef9_row3_col2\" class=\"data row3 col2\" >120.0</td>\n",
       "                        <td id=\"T_56ef9_row3_col3\" class=\"data row3 col3\" >6.3</td>\n",
       "            </tr>\n",
       "            <tr>\n",
       "                        <th id=\"T_56ef9_level0_row4\" class=\"row_heading level0 row4\" >4</th>\n",
       "                        <td id=\"T_56ef9_row4_col0\" class=\"data row4 col0\" >50.00</td>\n",
       "                        <td id=\"T_56ef9_row4_col1\" class=\"data row4 col1\" >0.14</td>\n",
       "                        <td id=\"T_56ef9_row4_col2\" class=\"data row4 col2\" >150.0</td>\n",
       "                        <td id=\"T_56ef9_row4_col3\" class=\"data row4 col3\" >8.3</td>\n",
       "            </tr>\n",
       "            <tr>\n",
       "                        <th id=\"T_56ef9_level0_row5\" class=\"row_heading level0 row5\" >5</th>\n",
       "                        <td id=\"T_56ef9_row5_col0\" class=\"data row5 col0\" >60.00</td>\n",
       "                        <td id=\"T_56ef9_row5_col1\" class=\"data row5 col1\" >0.12</td>\n",
       "                        <td id=\"T_56ef9_row5_col2\" class=\"data row5 col2\" >180.0</td>\n",
       "                        <td id=\"T_56ef9_row5_col3\" class=\"data row5 col3\" >10.0</td>\n",
       "            </tr>\n",
       "            <tr>\n",
       "                        <th id=\"T_56ef9_level0_row6\" class=\"row_heading level0 row6\" >6</th>\n",
       "                        <td id=\"T_56ef9_row6_col0\" class=\"data row6 col0\" >70.00</td>\n",
       "                        <td id=\"T_56ef9_row6_col1\" class=\"data row6 col1\" >0.41</td>\n",
       "                        <td id=\"T_56ef9_row6_col2\" class=\"data row6 col2\" >210.0</td>\n",
       "                        <td id=\"T_56ef9_row6_col3\" class=\"data row6 col3\" >5.1</td>\n",
       "            </tr>\n",
       "            <tr>\n",
       "                        <th id=\"T_56ef9_level0_row7\" class=\"row_heading level0 row7\" >7</th>\n",
       "                        <td id=\"T_56ef9_row7_col0\" class=\"data row7 col0\" >80.00</td>\n",
       "                        <td id=\"T_56ef9_row7_col1\" class=\"data row7 col1\" >0.32</td>\n",
       "                        <td id=\"T_56ef9_row7_col2\" class=\"data row7 col2\" >240.0</td>\n",
       "                        <td id=\"T_56ef9_row7_col3\" class=\"data row7 col3\" >3.2</td>\n",
       "            </tr>\n",
       "    </tbody></table>"
      ],
      "text/plain": [
       "<pandas.io.formats.style.Styler at 0x7fe61ec253d0>"
      ]
     },
     "execution_count": 2,
     "metadata": {},
     "output_type": "execute_result"
    }
   ],
   "source": [
    "import pandas as pd\n",
    "\n",
    "donnees = pd.DataFrame(\n",
    "    {\n",
    "        \"d(cm)\": [\"{:.2f}\".format(val) for val in d],  # On arrondi à 10^(-2) pour avoir la même précision que pour l'incertitude\n",
    "        \"u(d)(cm)\": [\"{:.2f}\".format(val) for val in ud],  #On garde deux chiffres significatifs sur l'incertitude\n",
    "        \"Delta t(ms)\": [\"{:.1f}\".format(val) for val in dt],  # Même principe\n",
    "        \"u(Delta t)(ms)\": [\"{:.1f}\".format(val) for val in udt]  # Même principe, il y a juste un problème pour 10\n",
    "    }\n",
    ")\n",
    "\n",
    "donnees.style"
   ]
  },
  {
   "cell_type": "markdown",
   "id": "written-toddler",
   "metadata": {},
   "source": [
    "### C'est à vous."
   ]
  },
  {
   "cell_type": "markdown",
   "id": "north-nirvana",
   "metadata": {},
   "source": [
    "#### Codage\n",
    "C'est à vous de coder maintenant la cellule suivante est entièrement à votre disposition. Vous devez obtenir en sortie\n",
    "le graphique représentant $\\Delta t$ en fonction $d$.\n",
    "\n",
    "Pensez bien :\n",
    "* aux bibliothèques utiles\n",
    "* aux légendes du graphiques\n",
    "* aux barres d'incertitudes\n",
    "\n",
    "_On rappelle que les vecteurs contenant les données ont déjà été créé dans la première cellule._"
   ]
  },
  {
   "cell_type": "code",
   "execution_count": 3,
   "id": "cathedral-disco",
   "metadata": {},
   "outputs": [
    {
     "data": {
      "text/plain": [
       "'Votre code\\n\\nA vous de coder le graphique à tracer.\\n'"
      ]
     },
     "execution_count": 3,
     "metadata": {},
     "output_type": "execute_result"
    }
   ],
   "source": [
    "\"\"\"Votre code\n",
    "\n",
    "A vous de coder le graphique à tracer.\n",
    "\"\"\""
   ]
  },
  {
   "cell_type": "markdown",
   "id": "upper-sympathy",
   "metadata": {},
   "source": [
    "#### Première analyse des données.\n",
    "Lorsque vous aurez obtenu le graphique des données expérimentales réelles, analysez le :\n",
    "\n",
    "* Que cherche-t-on à observer ?\n",
    "* Observe-t-on ce qu'on attend ?\n",
    "* Si oui, tant mieux, sinon essayez de comprendre où sont les problèmes.\n",
    "\n",
    "Ecrire alors le compte-rendu de votre analyse."
   ]
  },
  {
   "cell_type": "markdown",
   "id": "pregnant-money",
   "metadata": {},
   "source": [
    "## (Travail) Détermination des valeurs de la célérité"
   ]
  },
  {
   "cell_type": "markdown",
   "id": "international-riding",
   "metadata": {},
   "source": [
    "### Travail à faire\n",
    "Cette partie va nous amener à estimer la célérité pour chaque couple de mesure. On réalisera ensuite la moyenne des mesures.\n",
    "\n",
    "Dans cette partie, le script :\n",
    "1. réalise pour chaque jeu de données une simulation de Monte-Carlo pour estimer la célérité et son incertitude.\n",
    "    * On simule N = 100000 fois pour chaque jeu de données. Une explication (à comprendre et retenir) sur la méthode est donnée dans le script.\n",
    "    * Nous sommes dans le cas où on ne connaît pas la distribution associées aux données de vos camarades. On supposera que les distributions pour $\\Delta t$ et $d$ sont __gaussiennes__.\n",
    "2. (vous) estime la célérité par une moyenne de tous les résultats et l'incertitude avec la formule pour une estimation de type A.\n",
    "\t  * On utilise une moyenne arithmétique pour calculer $c_{mes}$ et son incertitude\n",
    "\t  * L'estimation de l'incertitude est alors (k est le nombre de mesure de c obtenues):\n",
    "\n",
    "$$ u(C) = \\frac{\\sigma(echantillons)}{\\sqrt{N}}$$\n",
    "\n",
    "où $\\sigma(echantillons)$ est l'écart-type du vecteur échantillons.\n",
    "\n",
    "3. Représenter sur un graphique chaque valeur de c pour chaque jeu de données avec une barre d'incertitude et la moyenne calculée.\n",
    "\t  * Mettre le numéro des binômes en abscisses (pas d'incertitude là dessus !)\n",
    "    * Représentez la moyenne par une droite donc par deux points $[0, c_{mes}], [k+1, {c_mes}]$. A vous de voir comment l'implémenter.\n",
    "    * (Facultatif : Pour aller plus loin) Ajoutez deux droites à $c_{mes} - u(c)$ et $c_{mes} + u(c)$ en pointillés\n",
    "4. Représenter sur un autre graphique les écarts normalisés à la moyenne des mesures pour vérifier la cohérence des mesures entre elles."
   ]
  },
  {
   "cell_type": "code",
   "execution_count": 4,
   "id": "pregnant-lambda",
   "metadata": {},
   "outputs": [
    {
     "data": {
      "image/png": "[encoded data removed]",
      "text/plain": [
       "<Figure size 648x432 with 2 Axes>"
      ]
     },
     "metadata": {
      "filenames": {
       "image/png": "/home/ubuntu/Dropbox/Enseignement prepas/travaux_pratiques/sources/tp1_methodes/_build/jupyter_execute/notebook/exo_graphique_13_0.png"
      },
      "needs_background": "light"
     },
     "output_type": "display_data"
    },
    {
     "name": "stdout",
     "output_type": "stream",
     "text": [
      "0\n"
     ]
    }
   ],
   "source": [
    "\"\"\"A vous de coder. On importe pour vous la bibliothèque random \n",
    "et la bibliothèque matplotlib.pyplot\n",
    "\"\"\"\n",
    "import numpy.random as rd\n",
    "import matplotlib.pyplot as plt\n",
    "\n",
    "\"\"\"\n",
    "On vous montre comment créer un tableau de taille N*k\n",
    "où chaque colonne simule les tirages d_i du groupe i suivant une distribution choisie.\n",
    "Il suffit pour cela d'entrer un vecteur de valeurs pour la moyenne et l'incertitude\n",
    "au lieu de rentrer une valeur seule.\n",
    "\"\"\"\n",
    "N = 100000\n",
    "k = len(d)  # Pour obtenir le nombre de mesures réaliser : la taille de la liste d.\n",
    "d_sim = rd.normal(d, ud, (N, k))  # Il faut préciser la taille du tableau N lignes et k colonnes\n",
    "dt_sim = rd.normal(dt, udt, (N, k))\n",
    "\n",
    "\"\"\"\n",
    "Calcul des c et de pour chaque binomes : moyenne de chaque colonne.\n",
    "La fonction np.mean possède une option np.mean(..., axis=0) qui permet justement de faire des moyennes que par colonnes.\n",
    "Note : np.mean(..., axis=1) fait des moyennes par lignes.\n",
    "\n",
    "Même principe pour l'écart-type avec l'utilisation de l'option axis=0\n",
    "\"\"\"\n",
    "c_binomes = d_sim / dt_sim  # Calcul de c pour chaque échantillons et chaque binomes de TP.\n",
    "c_sim = np.mean(c_binomes, axis = 0)  # Moyenne par colonne : on a la célérité de chaque binôme.\n",
    "uc_sim = np.std(c_binomes, ddof=1, axis=0)  # Ecart-type par colonne :on a l'incertitude de chaque binôme.\n",
    "\n",
    "\"\"\"\n",
    "C'est à vous maintenant de :\n",
    "- calculer la moyenne des célérités de chaque binomes\n",
    "- calculer l'incertitude-type sur la célérité au moyen de la formule donnée dans l'énoncé.\n",
    "N'hésitez pas à afficher les variables c_sim et uc_sim pour voir leur contenu.\n",
    "\"\"\"\n",
    "c0 = 0  # A modifier\n",
    "uc0 = 0  # A modifier\n",
    "\n",
    "\"Calcul des écarts normalisés à la moyenne pour chaque binomes\"\n",
    "en_binomes = 0  # A modifier\n",
    "\n",
    "\n",
    "\n",
    "\"\"\"Tracé graphique\n",
    "On montre comment tracer les valeurs de célérité avec leurs incertitude et les écarts normalisés dans la même fenêtre.\n",
    "\n",
    "Seule nouveauté, le tracé de la valeur moyenne. Voici l'instruction à placer (ax représente les axes):\n",
    "ax.plot([0, k+1], [c_mes, c_mes], color='red', label=\"Moyenne des mesures\")\n",
    "où c_mes est la variable contenant la valeur de la célérité estimée par moyenne.\n",
    "\n",
    "Modifier les lignes quand c'est nécessaire.\n",
    "\"\"\"\n",
    "f, ax = plt.subplots(1, 2, figsize=(9, 6))  # Fenêtre graphique avec deux zones de tracé.\n",
    "f.suptitle('')  # Donner un titre au graphique\n",
    "\n",
    "\"\"\"Tracé des valeurs de célérité avec incertitude pour chaque groupe\"\"\"\n",
    "ax[0].set_xlabel('Binôme')\n",
    "ax[0].set_ylabel('Célérité(m/s)')\n",
    "\n",
    "ax[0].errorbar(np.arange(k), c_sim, yerr=uc_sim, label=\"Valeurs estimées\", marker='+', linestyle='', color='red')\n",
    "ax[0].legend()\n",
    "\n",
    "\"\"\"Tracé des écarts normalisés\"\"\"\n",
    "\n",
    "\"\"\"Pensez à afficher la légende\"\"\"\n",
    "ax[1].set_xlabel('Binôme')\n",
    "ax[1].set_ylabel('EN')\n",
    "\n",
    "ax[1].plot(en_binomes, label=\"Ecarts normalisés\", marker='+', linestyle='', color='blue')\n",
    "ax[1].legend()\n",
    "\n",
    "plt.show()\n",
    "\n",
    "\"\"\"Calcul de l'écart normalisé entre c0 et la valeur données dans la littérature\"\"\"\n",
    "en_c = 0 # A modifier\n",
    "print(en_c)\n"
   ]
  },
  {
   "cell_type": "markdown",
   "id": "super-breach",
   "metadata": {},
   "source": [
    "### Analyse des données\n",
    "Réalisez une analyse des valeurs obtenues pour chaque groupe puis de la célérité moyenne en comparaison avec la valeur donnée dans la littérature."
   ]
  }
 ],
 "metadata": {
  "jupytext": {
   "encoding": "# -*- coding: utf-8 -*-",
   "formats": "ipynb,py:percent",
   "split_at_heading": true,
   "text_representation": {
    "extension": ".md",
    "format_name": "myst",
    "format_version": 0.13,
    "jupytext_version": "1.10.3"
   }
  },
  "kernelspec": {
   "display_name": "Python 3",
   "language": "python",
   "name": "python3"
  },
  "language_info": {
   "codemirror_mode": {
    "name": "ipython",
    "version": 3
   },
   "file_extension": ".py",
   "mimetype": "text/x-python",
   "name": "python",
   "nbconvert_exporter": "python",
   "pygments_lexer": "ipython3",
   "version": "3.9.2"
  },
  "source_map": [
   15,
   20,
   24,
   28,
   37,
   47,
   53,
   66,
   70,
   83,
   88,
   99,
   105,
   128,
   205
  ]
 },
 "nbformat": 4,
 "nbformat_minor": 5
}