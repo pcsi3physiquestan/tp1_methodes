{
 "cells": [
  {
   "cell_type": "markdown",
   "id": "c5242f7e",
   "metadata": {},
   "source": [
    "La page ci-présente existe en version notebook téléchargeable grâce au bouton ![Bouton](./images/bouton_tl.png) (choisir le format `.ipynb`). On rappelle qu'l faut ensuite l'enregistrer dans un répertoire adéquat sur votre ordinateur (`tp1` par exemple dans votre répertoire personnel) puis lancer Jupyter Notebook depuis Anaconda pour accéder au notebook, le modifier et exécutez les cellules de code adéquates."
   ]
  },
  {
   "cell_type": "markdown",
   "id": "56e5f4d8",
   "metadata": {},
   "source": [
    "# (TP) Application au tracé graphique (1h)"
   ]
  },
  {
   "cell_type": "markdown",
   "id": "6fa48199",
   "metadata": {},
   "source": [
    "## Analyse de la relation durée-distance"
   ]
  },
  {
   "cell_type": "markdown",
   "id": "905ea283",
   "metadata": {},
   "source": [
    "### Votre travail\n",
    "Vous aller devoir exploiter non plus une mesure de temps de vol pour une distance émetteur-récepteur mais regrouper l'ensemble de résultats de mesure\n",
    "des groupes de TP pour affiner votre mesure de la célérité.\n",
    "\n",
    "Pour pouvoir tester votre code, des données expérimentales __fictives__ sont entrées dans la cellule suivante.\n",
    "En TP, vous récupérerez l'ensemble des données de mesure des différents binômes et modifierez ces listes."
   ]
  },
  {
   "cell_type": "code",
   "execution_count": 1,
   "id": "b1873413",
   "metadata": {
    "tags": [
     "remove-output",
     "hide-input"
    ]
   },
   "outputs": [],
   "source": [
    "import numpy as np  # Pensez à l'alias de la bibliothèques numpy pour la suite.\n",
    "import matplotlib.pyplot as plt\n",
    "\"\"\"Données expérimentales\n",
    "\n",
    "Pensez à entre les 4 listes dans le même ordre.\n",
    "\"\"\"\n",
    "d = np.array([10, 20, 30, 40, 50, 60, 70, 80])  # Liste des distances E-R (en cm - évitez les nombres trop petits)\n",
    "ud = np.array([0.15, 0.26, 0.16, 0.26, 0.14, 0.12, 0.41, 0.32])  # Liste des incertitudes sur d\n",
    "dt = np.array([30, 60, 90, 120, 150, 180, 210, 240])  # Liste des temps de vol (en ms)\n",
    "udt = np.array([5.4, 5.8, 4.6, 6.3, 8.3, 10, 5.1, 3.2])  # Liste des incertitudes sur Delta t"
   ]
  },
  {
   "cell_type": "markdown",
   "id": "565a35af",
   "metadata": {},
   "source": [
    "### C'est à vous."
   ]
  },
  {
   "cell_type": "markdown",
   "id": "9b6b88ae",
   "metadata": {},
   "source": [
    "#### Codage\n",
    "C'est à vous de coder maintenant la cellule suivante est entièrement à votre disposition. Vous devez obtenir en sortie\n",
    "le graphique représentant $\\Delta t$ en fonction $d$.\n",
    "\n",
    "Pensez bien :\n",
    "* aux légendes du graphiques\n",
    "* aux barres d'incertitudes\n",
    "\n",
    "_On rappelle que les vecteurs contenant les données ont déjà été créé dans la première cellule : `d, ud, dt, udt`. Pensez à utiliser le [modèle](https://pcsi3physiquestan.github.io/intro_python/notebook/plt_presentation.html#un-exemple-basique)._"
   ]
  },
  {
   "cell_type": "code",
   "execution_count": 2,
   "id": "64fc33ee",
   "metadata": {
    "tags": [
     "remove-output",
     "hide-input"
    ]
   },
   "outputs": [
    {
     "data": {
      "text/plain": [
       "'Votre code\\n\\nA vous de coder le graphique à tracer.\\n'"
      ]
     },
     "execution_count": 2,
     "metadata": {},
     "output_type": "execute_result"
    }
   ],
   "source": [
    "\"\"\"Votre code\n",
    "\n",
    "A vous de coder le graphique à tracer.\n",
    "\"\"\"\n",
    "# Créer la fenêtre graphique avec subplots\n",
    "\n",
    "# Donner un titre (f.suptitle) et des légendes (ax.set_xlabel et ax.set_ylabel)\n",
    "\n",
    "# Tracer la courbe Delta t (D) avec errorbar\n",
    "\n",
    "# Afficher une grille (ax.grid) et afficher le graphique (plt.show)"
   ]
  },
  {
   "cell_type": "markdown",
   "id": "c079b57e",
   "metadata": {},
   "source": [
    "#### Première analyse des données.\n",
    "Lorsque vous aurez obtenu le graphique des données expérimentales réelles, analysez le :\n",
    "\n",
    "* Que cherche-t-on à observer ?\n",
    "* Observe-t-on ce qu'on attend ?\n",
    "* Si oui, tant mieux, sinon essayez de comprendre où sont les problèmes.\n",
    "\n",
    "Ecrire alors le compte-rendu de votre analyse."
   ]
  },
  {
   "cell_type": "markdown",
   "id": "c1dc8bd6",
   "metadata": {},
   "source": [
    "## (Travail) Détermination des valeurs de la célérité"
   ]
  },
  {
   "cell_type": "markdown",
   "id": "11358b13",
   "metadata": {},
   "source": [
    "### Travail à faire\n",
    "Cette partie va nous amener à estimer la célérité pour chaque couple de mesure. On réalisera ensuite la moyenne des mesures.\n",
    "\n",
    "Dans cette partie, le script (les parties à modifier sont clairement explicitées mais il est important de comprendre le reste du code pour être capable de l'écrire soi-même) :\n",
    "1. réalise pour chaque jeu de données une simulation de Monte-Carlo pour estimer la célérité et son incertitude.\n",
    "    * On simule N = 100000 fois pour chaque jeu de données. Une explication (à comprendre et retenir) sur la méthode est donnée dans le script.\n",
    "    * Nous sommes dans le cas où on ne connaît pas la distribution associées aux données de vos camarades. On supposera que les distributions pour $\\Delta t$ et $d$ sont __gaussiennes__.\n",
    "2. (vous) estime la célérité par une moyenne de tous les résultats et l'incertitude avec la formule pour une estimation de type A.\n",
    "\t  * On utilise une moyenne arithmétique pour calculer $c_{mes}$ et son incertitude\n",
    "\t  * L'estimation de l'incertitude est alors (k est le nombre de mesure de c obtenues): $ u(C) = \\frac{\\sigma(echantillons)}{\\sqrt{k}}$ où $\\sigma(echantillons)$ est l'écart-type du vecteur échantillons.\n",
    "3. représente sur un graphique chaque valeur de c pour chaque jeu de données avec une barre d'incertitude et la moyenne calculée.\n",
    "\t  * le numéro des binômes en abscisses (pas d'incertitude là dessus !)\n",
    "    * la moyenne par une droite donc par deux points $[0, c_{mes}], [k+1, {c_mes}]$.\n",
    "4. représente sur un autre graphique les écarts normalisés à la moyenne des mesures pour vérifier la cohérence des mesures entre elles."
   ]
  },
  {
   "cell_type": "code",
   "execution_count": 3,
   "id": "d6408082",
   "metadata": {
    "tags": [
     "remove-output",
     "hide-input"
    ]
   },
   "outputs": [
    {
     "data": {
      "image/png": "[encoded data removed]",
      "text/plain": [
       "<Figure size 648x432 with 2 Axes>"
      ]
     },
     "metadata": {
      "filenames": {
       "image/png": "D:\\cedri\\Dropbox\\Enseignement prepas\\travaux_pratiques\\sources\\tp1_methodes\\_build\\jupyter_execute\\notebook\\exo_graphique_11_0.png"
      },
      "needs_background": "light"
     },
     "output_type": "display_data"
    },
    {
     "name": "stdout",
     "output_type": "stream",
     "text": [
      "0\n"
     ]
    }
   ],
   "source": [
    "\"\"\" PARTIE DEJA ECRITE\"\"\"\n",
    "\"\"\"On importe pour vous la bibliothèque random \n",
    "et la bibliothèque matplotlib.pyplot\n",
    "\"\"\"\n",
    "import numpy.random as rd\n",
    "import matplotlib.pyplot as plt\n",
    "\n",
    "\"\"\"\n",
    "On vous montre comment créer un tableau de taille N*k\n",
    "où chaque colonne simule les tirages d_i du groupe i suivant une distribution choisie.\n",
    "Il suffit pour cela d'entrer un vecteur de valeurs pour la moyenne et l'incertitude\n",
    "au lieu de rentrer une valeur seule.\n",
    "\"\"\"\n",
    "N = 100000\n",
    "k = len(d)  # Pour obtenir le nombre de mesures réaliser : la taille de la liste d.\n",
    "d_sim = rd.normal(d, ud, (N, k))  # Il faut préciser la taille du tableau N lignes et k colonnes\n",
    "dt_sim = rd.normal(dt, udt, (N, k))\n",
    "\n",
    "\"\"\"\n",
    "Calcul des c et de u(c) pour chaque binomes : moyenne de chaque colonne.\n",
    "La fonction np.mean possède une option np.mean(..., axis=0) qui permet justement de faire des moyennes que par colonnes.\n",
    "\n",
    "Même principe pour l'écart-type avec l'utilisation de l'option axis=0\n",
    "\"\"\"\n",
    "c_binomes = d_sim / dt_sim  # Calcul de c pour chaque échantillons et chaque binomes de TP.\n",
    "c_sim = np.mean(c_binomes, axis = 0)  # Moyenne par colonne : on a la célérité de chaque binôme.\n",
    "uc_sim = np.std(c_binomes, ddof=1, axis=0)  # Ecart-type par colonne :on a l'incertitude de chaque binôme.\n",
    "\"\"\" FIN DE LA PARTIE ECRITE\n",
    "---------------------------------------------------------------------------------------\n",
    "\"\"\"\n",
    "\n",
    "\n",
    "\"\"\"\n",
    "---------------------------------------------------------------------------------------\n",
    "A VOUS DE CODER\n",
    "C'est à vous maintenant de :\n",
    "- calculer la moyenne des célérités estimées précédemment\n",
    "- calculer l'incertitude-type sur la célérité au moyen de la formule donnée dans l'énoncé.\n",
    "N'hésitez pas à afficher les variables c_sim et uc_sim pour voir leur contenu.\n",
    "\"\"\"\n",
    "c0 = 0  # A modifier\n",
    "uc0 = 0  # A modifier\n",
    "\n",
    "\"Calcul des écarts normalisés à la moyenne pour chaque binomes\"\n",
    "en_binomes = 0  # A modifier\n",
    "\n",
    "\"\"\"\n",
    "FIN DE LA PARTIE A MODIFIER\n",
    "---------------------------------------------------------------------------------------\n",
    "\"\"\"\n",
    "\n",
    "\"\"\"\n",
    "PARTIE DEJA ECRITE\n",
    "---------------------------------------------------------------------------------------\n",
    "Tracé graphique\n",
    "On montre comment tracer les valeurs de célérité avec leurs incertitude et les écarts normalisés dans la même fenêtre.\n",
    "\n",
    "Seule nouveauté, le tracé de la valeur moyenne. Voici l'instruction (ax représente les axes).\n",
    "\"\"\"\n",
    "f, ax = plt.subplots(1, 2, figsize=(9, 6))  # Fenêtre graphique avec deux zones de tracé.\n",
    "f.suptitle('')  # Donner un titre au graphique\n",
    "\n",
    "\"\"\"Tracé des valeurs de célérité avec incertitude pour chaque groupe\"\"\"\n",
    "ax[0].set_xlabel('Binôme')\n",
    "ax[0].set_ylabel('Célérité(m/s)')\n",
    "\n",
    "ax[0].errorbar(np.arange(k), c_sim, yerr=uc_sim, label=\"Valeurs estimées\", marker='+', linestyle='', color='red')\n",
    "ax[0].plot([0, k+1], [c0, c0], color='red', label=\"Moyenne des mesures\")\n",
    "ax[0].legend()\n",
    "\n",
    "\"\"\"Tracé des écarts normalisés\"\"\"\n",
    "\n",
    "\n",
    "ax[1].set_xlabel('Binôme')\n",
    "ax[1].set_ylabel('EN')\n",
    "\n",
    "ax[1].plot(en_binomes, label=\"Ecarts normalisés\", marker='+', linestyle='', color='blue') \n",
    "ax[1].legend()\n",
    "\n",
    "plt.show()\n",
    "\"\"\"\n",
    "FIN DU TRACE GRAPHIQUE\n",
    "---------------------------------------------------------------------------------------\n",
    "\"\"\"\n",
    "\n",
    "\n",
    "\n",
    "\"\"\"\n",
    "---------------------------------------------------------------------------------------\n",
    "A VOUS DE CODER\n",
    "Calcul de l'écart normalisé entre c0 et la valeur données dans la littérature\n",
    "\"\"\"\n",
    "en_c = 0 # A modifier\n",
    "print(en_c)"
   ]
  },
  {
   "cell_type": "markdown",
   "id": "47f2508f",
   "metadata": {},
   "source": [
    "### Analyse des données\n",
    "Réalisez une analyse des valeurs obtenues pour chaque groupe puis de la célérité moyenne en comparaison avec la valeur donnée dans la littérature."
   ]
  }
 ],
 "metadata": {
  "jupytext": {
   "encoding": "# -*- coding: utf-8 -*-",
   "formats": "ipynb,py:percent",
   "split_at_heading": true,
   "text_representation": {
    "extension": ".md",
    "format_name": "myst",
    "format_version": 0.13,
    "jupytext_version": "1.10.3"
   }
  },
  "kernelspec": {
   "display_name": "Python 3",
   "language": "python",
   "name": "python3"
  },
  "language_info": {
   "codemirror_mode": {
    "name": "ipython",
    "version": 3
   },
   "file_extension": ".py",
   "mimetype": "text/x-python",
   "name": "python",
   "nbconvert_exporter": "python",
   "pygments_lexer": "ipython3",
   "version": "3.7.12"
  },
  "source_map": [
   15,
   20,
   24,
   28,
   37,
   49,
   54,
   66,
   79,
   90,
   96,
   113,
   210
  ]
 },
 "nbformat": 4,
 "nbformat_minor": 5
}