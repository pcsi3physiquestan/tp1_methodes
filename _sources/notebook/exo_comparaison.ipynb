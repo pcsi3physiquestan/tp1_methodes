{
 "cells": [
  {
   "cell_type": "markdown",
   "id": "positive-cosmetic",
   "metadata": {},
   "source": [
    "Vous allez maintenant mettre en oeuvre l'utilisation de l'écart normalisé et de la régression linéaire pour comparer les valeurs expérimentales avec la valeur théorique."
   ]
  },
  {
   "cell_type": "markdown",
   "id": "sound-packet",
   "metadata": {},
   "source": [
    "# (TP) Complément : Utilisation d'une régression linéaire.\n",
    "Cette partie est entièrement libre. Vous allez utiliser la cellule suivante pour réaliser une régression linéaire à partir de la relation $d = c \\Delta t$. Vous devrez :\n",
    "* Vérifier la compatibilité avec le modèle linéaire\n",
    "* Estimer ainsi la célérité et son incertitude au moyen d'une simulation de Monte-Carlo.\n",
    "* Comparer la valeur estimée aux attentes.\n",
    "\n",
    "Pensez à utiliser [l'exemple complet](https://pcsi3physiquestan.github.io/tp_incertitude/notebook/exemple.html) pour écrire le code adéquat."
   ]
  }
 ],
 "metadata": {
  "jupytext": {
   "encoding": "# -*- coding: utf-8 -*-",
   "formats": "ipynb,py:percent",
   "split_at_heading": true,
   "text_representation": {
    "extension": ".md",
    "format_name": "myst",
    "format_version": 0.13,
    "jupytext_version": "1.10.3"
   }
  },
  "kernelspec": {
   "display_name": "Python 3",
   "language": "python",
   "name": "python3"
  },
  "language_info": {
   "codemirror_mode": {
    "name": "ipython",
    "version": 3
   },
   "file_extension": ".py",
   "mimetype": "text/x-python",
   "name": "python",
   "nbconvert_exporter": "python",
   "pygments_lexer": "ipython3",
   "version": "3.9.2"
  },
  "source_map": [
   15,
   19
  ]
 },
 "nbformat": 4,
 "nbformat_minor": 5
}