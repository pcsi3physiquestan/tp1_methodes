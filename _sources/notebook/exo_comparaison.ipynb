{
 "cells": [
  {
   "cell_type": "markdown",
   "id": "equipped-header",
   "metadata": {},
   "source": [
    "Vous allez maintenant mettre en oeuvre l'utilisation de l'écart normalisé et de la régression linéaire pour comparer les valeurs expérimentales avec la valeur théorique."
   ]
  },
  {
   "cell_type": "markdown",
   "id": "medieval-flour",
   "metadata": {},
   "source": [
    "# (TP) Utilisation d'une régression linéaire. (1h)\n",
    "Cette partie est relativement libre __mais il faudra changer et ajouter beaucoup d'éléments__. Vous allez utiliser la cellule suivante pour réaliser une régression linéaire à partir de la relation $d = c \\Delta t$. Vous devrez :\n",
    "* Vérifier la compatibilité avec le modèle linéaire par régression linéaire et tracé graphique (pensez aux écarts normalisés)\n",
    "* Estimer ainsi la célérité et son incertitude au moyen d'une simulation de Monte-Carlo sur la régression linéaire.\n",
    "* Comparer la valeur estimée aux attentes.\n",
    "\n",
    "Pensez à utiliser [l'exemple complet](https://pcsi3physiquestan.github.io/tp_incertitude/notebook/exemple.html) pour écrire le code adéquat."
   ]
  },
  {
   "cell_type": "code",
   "execution_count": 1,
   "id": "variable-correction",
   "metadata": {},
   "outputs": [
    {
     "data": {
      "text/plain": [
       "\"\\n------- LOI COMPATIBLE A L'OEIL -----------\\nCommencez par tracer un graphique approprié pour vérifier à l'oeil si le modèle attendue est possible.\\n\""
      ]
     },
     "execution_count": 1,
     "metadata": {},
     "output_type": "execute_result"
    }
   ],
   "source": [
    "\"\"\"\n",
    "------- MODULES UTILES -----------\n",
    "N'oubliez pas d'importer les bibliothèques utiles. Toutes ne sont pas importées.\n",
    "\"\"\"\n",
    "import numpy as np\n",
    "\n",
    "\"\"\"\n",
    "------- DONNEES EXPERIMENTALES -----------\n",
    "Pensez à changer les valeurs des données expérimentales. Les suivantes sont fictives\n",
    "\"\"\"\n",
    "\n",
    "d = np.array([10, 20, 30, 40, 50, 60, 70, 80])  # Liste des distances E-R (en cm - évitez les nombres trop petits)\n",
    "ud = np.array([0.15, 0.26, 0.16, 0.26, 0.14, 0.12, 0.41, 0.32])  # Liste des incertitudes sur d\n",
    "dt = np.array([30, 60, 90, 120, 150, 180, 210, 240])  # Liste des temps de vol (en ms)\n",
    "udt = np.array([5.4, 5.8, 4.6, 6.3, 8.3, 10, 5.1, 3.2])  # Liste des incertitudes sur Delta t\n",
    "\n",
    "\"\"\"\n",
    "------- LOI COMPATIBLE A L'OEIL -----------\n",
    "Commencez par tracer un graphique approprié pour vérifier à l'oeil si le modèle attendue est possible.\n",
    "\"\"\"\n",
    "\n",
    "\n",
    "\n",
    "\n"
   ]
  },
  {
   "cell_type": "code",
   "execution_count": 2,
   "id": "integrated-classic",
   "metadata": {},
   "outputs": [],
   "source": [
    "\"\"\"\n",
    "------- AJUSTEMENT LINEAIRE -----------\n",
    "Vous devez réaliser un ajustement linéaire et en déduire une valeur des paramètres\n",
    "(pente et ordonnées à l'origine) AVEC LEUR INCERTITUDE par méthode de Monte-Carlo.\n",
    "Vous devez dans l'ordre :\n",
    "- dans une boucle, créer directement un vecteur de N simulations pour d et dt pour le binome i\n",
    "et stocker ce vecteur dans une listes (un élément de la liste = un binôme)\n",
    "- dans une seconde boucle, sélectionner les échantillons k de chaque binômes\n",
    "et faire la régression linéaire avec ces échantillons. Stocker pente, ordonnée\n",
    "à l'origine et valeur de célérité dans un vecteur de taille N créé au préalable.\n",
    "- Calculer la moyenne et l'écart-type de la pente, de l'ordonnée à l'origine, de la célérité\n",
    "pour avoir les valeurs estimées et leur incertitude.\n",
    "\"\"\"\n",
    "N = 10000\n",
    "n_bin = len(d)  # Nombre de binômes\n",
    "\n",
    "\n",
    "\n",
    "\n",
    "\n",
    "\n",
    "\n",
    "\n",
    "\n"
   ]
  },
  {
   "cell_type": "code",
   "execution_count": 3,
   "id": "based-recording",
   "metadata": {},
   "outputs": [
    {
     "data": {
      "text/plain": [
       "\"\\n------- TEST DE COMPATIBILITE DU MODELE -----------\\n1. Vérifier par un tracé graphique que la droite ajustée passe par les croix d'incertitude\\n2. Vérifier par un tracé graphique que tous les écarts normalisés entre\\nles valeurs expérimentales et les valeurs ajustées sont inférieurs à 2\\n\""
      ]
     },
     "execution_count": 3,
     "metadata": {},
     "output_type": "execute_result"
    }
   ],
   "source": [
    "\"\"\"\n",
    "------- TEST DE COMPATIBILITE DU MODELE -----------\n",
    "1. Vérifier par un tracé graphique que la droite ajustée passe par les croix d'incertitude\n",
    "2. Vérifier par un tracé graphique que tous les écarts normalisés entre\n",
    "les valeurs expérimentales et les valeurs ajustées sont inférieurs à 2\n",
    "\"\"\"\n",
    "\n"
   ]
  },
  {
   "cell_type": "code",
   "execution_count": 4,
   "id": "regulation-tuesday",
   "metadata": {},
   "outputs": [
    {
     "data": {
      "text/plain": [
       "\"\\n------- TEST DE COMPATIBILITE DE C -----------\\nVérifier par un calcul d'écart normalisé que la valeur estimée de la célérité\\nest compatible avec les données théoriques.\\n\""
      ]
     },
     "execution_count": 4,
     "metadata": {},
     "output_type": "execute_result"
    }
   ],
   "source": [
    "\"\"\"\n",
    "------- TEST DE COMPATIBILITE DE C -----------\n",
    "Vérifier par un calcul d'écart normalisé que la valeur estimée de la célérité\n",
    "est compatible avec les données théoriques.\n",
    "\"\"\"\n"
   ]
  }
 ],
 "metadata": {
  "jupytext": {
   "encoding": "# -*- coding: utf-8 -*-",
   "formats": "ipynb,py:percent",
   "split_at_heading": true,
   "text_representation": {
    "extension": ".md",
    "format_name": "myst",
    "format_version": 0.13,
    "jupytext_version": "1.10.3"
   }
  },
  "kernelspec": {
   "display_name": "Python 3",
   "language": "python",
   "name": "python3"
  },
  "language_info": {
   "codemirror_mode": {
    "name": "ipython",
    "version": 3
   },
   "file_extension": ".py",
   "mimetype": "text/x-python",
   "name": "python",
   "nbconvert_exporter": "python",
   "pygments_lexer": "ipython3",
   "version": "3.9.2"
  },
  "source_map": [
   15,
   19,
   29,
   57,
   85,
   96
  ]
 },
 "nbformat": 4,
 "nbformat_minor": 5
}