{
 "cells": [
  {
   "cell_type": "markdown",
   "id": "40a0ed9b",
   "metadata": {},
   "source": [
    "Vous allez maintenant mettre en oeuvre l'utilisation de l'écart normalisé et de la régression linéaire pour comparer les valeurs expérimentales avec la valeur théorique."
   ]
  },
  {
   "cell_type": "markdown",
   "id": "e806ebd6",
   "metadata": {},
   "source": [
    "# (TP) Utilisation d'une régression linéaire. (1h)\n",
    "Vous allez utiliser les cellules suivantes pour réaliser une régression linéaire à partir de la relation $d = c \\Delta t$. Vous devrez :\n",
    "* Vérifier la compatibilité avec le modèle linéaire par régression linéaire et tracé graphique (pensez aux écarts normalisés)\n",
    "* Estimer ainsi la célérité et son incertitude au moyen d'une simulation de Monte-Carlo sur la régression linéaire.\n",
    "* Comparer la valeur estimée aux attentes.\n",
    "\n",
    "Pensez à regarder aussi [l'exemple complet](https://pcsi3physiquestan.github.io/tp_incertitude/notebook/exemple.html) pour comprendre."
   ]
  },
  {
   "cell_type": "code",
   "execution_count": 1,
   "id": "e2ec920e",
   "metadata": {
    "tags": [
     "remove-output",
     "hide-input"
    ]
   },
   "outputs": [
    {
     "data": {
      "image/png": "[encoded data removed]",
      "text/plain": [
       "<Figure size 432x288 with 1 Axes>"
      ]
     },
     "metadata": {
      "filenames": {
       "image/png": "D:\\cedri\\Dropbox\\Enseignement prepas\\travaux_pratiques\\sources\\tp1_methodes\\_build\\jupyter_execute\\notebook\\exo_comparaison_2_0.png"
      },
      "needs_background": "light"
     },
     "output_type": "display_data"
    }
   ],
   "source": [
    "\"\"\"\n",
    "------- MODULES UTILES -----------\n",
    "Les bibliothèques utiles sont déjà importées.\n",
    "\"\"\"\n",
    "import numpy as np\n",
    "import matplotlib.pyplot as plt\n",
    "import numpy.random as rd\n",
    "\n",
    "\"\"\"\n",
    "------- DONNEES EXPERIMENTALES -----------\n",
    "Pensez à changer les valeurs des données expérimentales. Les suivantes sont fictives\n",
    "\"\"\"\n",
    "\n",
    "d = np.array([10, 20, 30, 40, 50, 60, 70, 80])  # Liste des distances E-R (en cm - évitez les nombres trop petits)\n",
    "ud = np.array([0.15, 0.26, 0.16, 0.26, 0.14, 0.12, 0.41, 0.32])  # Liste des incertitudes sur d\n",
    "dt = np.array([30, 60, 90, 120, 150, 180, 210, 240])  # Liste des temps de vol (en ms)\n",
    "udt = np.array([5.4, 5.8, 4.6, 6.3, 8.3, 10, 5.1, 3.2])  # Liste des incertitudes sur Delta t\n",
    "\n",
    "\"\"\"\n",
    "------- LOI COMPATIBLE A L'OEIL -----------\n",
    "Le tracé a déjà été réalisé précédemment. On donne cette fois le code\n",
    "\"\"\"\n",
    "f, ax = plt.subplots()\n",
    "f.suptitle('Etude de la célérité du son')\n",
    "ax.set_xlabel(\"Distance cm)\")\n",
    "ax.set_ylabel(\"Temps de vole (ms)\")\n",
    "\n",
    "ax.errorbar(d, dt, xerr=ud, yerr=udt, label=\"Données expérimentales\", marker=\"+\", linestyle=\"\", color=\"black\")\n",
    "\n",
    "ax.grid()\n",
    "ax.legend()\n",
    "plt.show()"
   ]
  },
  {
   "cell_type": "markdown",
   "id": "6de95559",
   "metadata": {},
   "source": [
    "_Vérifiez que l'hypothèse d'une loi linéaire est plausible._"
   ]
  },
  {
   "cell_type": "code",
   "execution_count": 2,
   "id": "aa2f668d",
   "metadata": {
    "tags": [
     "remove-output",
     "hide-input"
    ]
   },
   "outputs": [
    {
     "ename": "SyntaxError",
     "evalue": "invalid syntax (Temp/ipykernel_17008/948194908.py, line 22)",
     "output_type": "error",
     "traceback": [
      "\u001b[1;36m  File \u001b[1;32m\"C:\\Users\\cedri\\AppData\\Local\\Temp/ipykernel_17008/948194908.py\"\u001b[1;36m, line \u001b[1;32m22\u001b[0m\n\u001b[1;33m    for j in range(N): On parcourt les N échantillons\u001b[0m\n\u001b[1;37m                                 ^\u001b[0m\n\u001b[1;31mSyntaxError\u001b[0m\u001b[1;31m:\u001b[0m invalid syntax\n"
     ]
    }
   ],
   "source": [
    "\"\"\"\n",
    "------- AJUSTEMENT LINEAIRE -----------\n",
    "Vous devez réaliser un ajustement linéaire et en déduire une valeur des paramètres\n",
    "(pente et ordonnées à l'origine) AVEC LEUR INCERTITUDE par méthode de Monte-Carlo.\n",
    "La majeure partie du code est donnée.\n",
    "\"\"\"\n",
    "N = 10000\n",
    "n_bin = len(d)  # Nombre de binômes\n",
    "\n",
    "\"\"\" SIMULATION DES ECHANTILLONS\n",
    "On crée directement des tableaux de N*k échantillons simulés pour d et dt\n",
    "\"\"\"\n",
    "k = len(d)\n",
    "d_sim = rd.uniform(-ud, ud, (N, k))\n",
    "dt_sim = rd.uniform(-udt, udt, (N, k))\n",
    "\n",
    "\"\"\" REGRESSIONS LINEAIRES\n",
    "Réalisation des N régressions linéaires au moyen d'une boucle\n",
    "\"\"\"\n",
    "c_sim = []  # On stockera les célérité dans cette liste.\n",
    "ordo_sim = []  # On conserve aussi les ordonnées à l'origine\n",
    "for j in range(N): On parcourt les N échantillons\n",
    "    d_e = d_sim[j]  # Sélection des distances simulées\n",
    "    dt_e = dt_sim[j]  # Sélection des temps de vol simulés\n",
    "    par_e = np.polyfit(d_e, dt_e, 1)  # Régression linéaire\n",
    "    c_e = 1 / par_e[0]  # La célérité est l'inverse de la pente\n",
    "    ordo_e = par_e[1]  # Ordonnée à l'origine\n",
    "    c_sim.append(c_e)  # Ajout de la célérité à la liste des valeurs simulées de c\n",
    "    ordo_sim.append(ordo_e)  # Ajout de l'ordonnée à l'origine\n",
    "\n",
    "\"\"\" -------------------------------------------------------\n",
    "A VOUS DE CODER : Détermination des valeurs utiles\n",
    "\"\"\"\n",
    "c_m = 0  # Ecrire ici l'instruction permettant d'avoir la célérité estimée à partir de c_sim\n",
    "c_u = 0  # Ecrire ici l'instruction permettant d'avoir l'incertitude sur la célérité estimée à partir de c_sim\n",
    "ordo_m = 0  # Ecrire ici l'instruction permettant d'avoir l'ordonnée à l'origine estimée à partir de ordo_sim\n",
    "ordo_u = 0  # Ecrire ici l'instruction permettant d'avoir son incertitude à partir de ordo_sim\n",
    "\n",
    "\"\"\" FIN DE LA PARTIE A MODIER \"\"\"\n",
    "\n",
    "# Affichage des grandeurs.\n",
    "print(\"c =\" + str(c_m))\n",
    "print(\"u(c) =\" + str(c_u))\n",
    "print(\"ordo =\" + str(ordo_m))\n",
    "print(\"u(ordo) =\" + str(ordo_u))"
   ]
  },
  {
   "cell_type": "markdown",
   "id": "9641760f",
   "metadata": {},
   "source": [
    "_Réfléchir à l'utilisation possible de l'ordonnée à l'origine._"
   ]
  },
  {
   "cell_type": "code",
   "execution_count": null,
   "id": "aad2b2a3",
   "metadata": {
    "tags": [
     "remove-output",
     "hide-input"
    ]
   },
   "outputs": [],
   "source": [
    "\"\"\"\n",
    "------- TEST DE COMPATIBILITE DU MODELE -----------\n",
    "1. Vérifier par un tracé graphique que la droite ajustée passe par les croix d'incertitude\n",
    "2. Vérifier par un tracé graphique que tous les écarts normalisés entre\n",
    "les valeurs expérimentales et les valeurs ajustées sont inférieurs à 2\n",
    "\"\"\"\n",
    "\n",
    "# COMPATIBILITE A L'OEIL\n",
    "# On redonne les instructions pour le tracé des points de mesures expérimentales\n",
    "f, ax = plt.subplots()\n",
    "f.suptitle('Etude de la célérité du son')\n",
    "ax.set_xlabel(\"Distance cm)\")\n",
    "ax.set_ylabel(\"Temps de vole (ms)\")\n",
    "\n",
    "ax.errorbar(d, dt, xerr=ud, yerr=udt, label=\"Données expérimentales\", marker=\"+\", linestyle=\"\", color=\"black\")\n",
    "\n",
    "\"\"\" --------------------------------\n",
    "A VOUS DE CODER\n",
    "\"\"\"\n",
    "dt_aju = 0  # Obtenir les valeurs ajustées des temps de vol à partir de d_sim, c_m et ordo_m\n",
    "# Ecrire ici l'instruction ajoutant le tracé de la droite ajustée à partir de dt_aju et d_sim.\n",
    "\n",
    "\n",
    "\"\"\" FIN DE LA PARTIE A MODIFIER \"\"\"\n",
    "\n",
    "ax.grid()\n",
    "ax.legend()\n",
    "plt.show()\n",
    "\n",
    "\n",
    "# ----------------------------------------------------------------------------\n",
    "# ECARTS NORMALISES (on supposera les valeurs ajustées sans incertitude pour simplifier)\n",
    "\"\"\"\n",
    "A VOUS DE CODER\n",
    "\"\"\"\n",
    "en_s = 0  # Ecrire l'instruction permettant de calculer les écarts normalisés entre valeurs ajustées et valeurs expérimentales\n",
    "\n",
    "print(en_s)  # Vérifier la compatibilité du modèle.\n",
    "\n",
    "\n",
    "# Si le temps le permet, tracer les écarts normalisés en fonction de la distance."
   ]
  },
  {
   "cell_type": "code",
   "execution_count": null,
   "id": "f7fcb54e",
   "metadata": {
    "tags": [
     "remove-output",
     "hide-input"
    ]
   },
   "outputs": [],
   "source": [
    "\"\"\"\n",
    "------- TEST DE COMPATIBILITE DE C -----------\n",
    "Vérifier par un calcul d'écart normalisé que la valeur estimée de la célérité\n",
    "est compatible avec les données théoriques.\n",
    "\"\"\""
   ]
  }
 ],
 "metadata": {
  "jupytext": {
   "encoding": "# -*- coding: utf-8 -*-",
   "formats": "ipynb,py:percent",
   "split_at_heading": true,
   "text_representation": {
    "extension": ".md",
    "format_name": "myst",
    "format_version": 0.13,
    "jupytext_version": "1.10.3"
   }
  },
  "kernelspec": {
   "display_name": "Python 3",
   "language": "python",
   "name": "python3"
  },
  "language_info": {
   "codemirror_mode": {
    "name": "ipython",
    "version": 3
   },
   "file_extension": ".py",
   "mimetype": "text/x-python",
   "name": "python",
   "nbconvert_exporter": "python",
   "pygments_lexer": "ipython3",
   "version": "3.7.12"
  },
  "source_map": [
   15,
   19,
   29,
   63,
   67,
   115,
   119,
   164
  ]
 },
 "nbformat": 4,
 "nbformat_minor": 5
}