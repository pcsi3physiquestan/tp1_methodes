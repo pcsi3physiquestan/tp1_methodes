{
 "cells": [
  {
   "cell_type": "markdown",
   "id": "d5af14d2",
   "metadata": {},
   "source": [
    "La page ci-présente existe en version notebook téléchargeable grâce au bouton ![Bouton](./images/bouton_tl.png) (choisir le format `.ipynb`). On rappelle qu'l faut ensuite l'enregistrer dans un répertoire adéquat sur votre ordinateur (`tp1` par exemple dans votre répertoire personnel) puis lancer Jupyter Notebook depuis Anaconda pour accéder au notebook, le modifier et exécutez les cellules de code adéquates."
   ]
  },
  {
   "cell_type": "markdown",
   "id": "21d2e975",
   "metadata": {},
   "source": [
    "# (TP) Application à l'étude des ultrasons. (1h)\n",
    "On reprend l'étude de la propagation des ultrasons. Le but est de déterminer la célérité du son dans l'air. \n",
    "Le protocole réalisé et le matériel utilisé est celui proposé dans l'[exercice que vous avez fait précédemment](exo_protocole).\n",
    "\n",
    "## Réalisation du protocole et estimation des incertitudes-type\n",
    "Cette partie sera réalisée en TP. Lisez-là pour savoir ce que vous devrez faire mais vous ne pourrez pas faire grand chose avant le TP (sauf précision)."
   ]
  },
  {
   "cell_type": "markdown",
   "id": "636ecc0f",
   "metadata": {},
   "source": [
    "### Mise en place\n",
    "Le protocole à réaliser est affichable en cliquant sur la croix à droite.\n",
    "\n",
    "````{toggle}\n",
    "```{figure} ./images/atelierscientifique_v2.png\n",
    ":name: at_scient\n",
    ":align: center\n",
    "Titre\n",
    "```\n",
    "1. Réaliser le montage en n'oubliant pas d'alimenter l'émetteur et de le régler et en branchant les deux récepteurs sur la console FOXY. Régler l'émetteur en mode salves courtes.\n",
    "2. __Brancher un connecteur BNC-fil simple entre l'émetteur et FOXY.__ Ce signal est le signal alimentant l'émetteur (_pas le signal émis_). Il servira à synchroniser l'affichage.\n",
    "2. Brancher la console FOXY à l'ordinateur. Une \"tablette\" simulée s'ouvre. __Choisir généraliste.__\n",
    "3. Préparer l'acquisition (`Affichage > Acquisition` _Conseil : décocher l'option \"Fermer au lancement de l'acquisition\" pour garder cette fenêtre de réglage durant le TP_):\n",
    "    * Choisir les voies à acquérir (_icone rouge et noir à droite du [mini-graphique](at_scient)_)\n",
    "        1. Les placer (glisser-déplacer) sur l'axe des ordonnées du petit graphique.\n",
    "        2. Les nommer clairement (onglet `Grandeur` sous le petit graphique quand vous sélectionner la voie choisie)\n",
    "        3. Choisir le calibre de chaque voie (le signal ne dépassera pas 10V).\n",
    "    * Régler la base de temps de l'acquisition\n",
    "        1. Choisir d'acquérir en fonction du temps ([Horloge](at_scient) à placer sur l'axe des abscisses)\n",
    "        2. Régler la durée d'acquisition (dans `Fonction du temps` quand vous sélectionnez l'horloge) comme choisi dans [l'étude préliminaire](exemple_proto).\n",
    "        3. Régler le nombre de points à 10000 (on apprendra plus tard à réfléchir à ce choix).\n",
    "        4. Cocher `Acquisition continue` de manière à ne pas avoir besoin de relancer l'acquisition à chaque fois.\n",
    "    * Régler la synchronisation : il faut choisir à quelle valeur démarrera l'affichage des signaux pour observer un signal stable.\n",
    "        1. Dans l'onglet (Menus de l'horloge) `Synchronisation` choisir la `Voie de synchro` correspondant au signal de l'émetteur.\n",
    "        2. Choisir une `Niveau` de 1(V) `Croissant`.\n",
    "    * Vous pouvez maintenant lancer l'acquisition !\n",
    "\n",
    "````\n",
    "\n",
    "### Réalisation des mesures - Bilan des incertitudes\n",
    "\n",
    "Vous devez maintenant réaliser la mesure.\n",
    "\n",
    "```{attention}\n",
    "Au préalable, vous avez dû discuter au préalable avec le reste du groupe pour vous répartir les distances de mesure de sorte que chaque élève fasse une mesure de temps de vol pour une distance différente.\n",
    "```\n",
    "\n",
    "Rendre compte :\n",
    "* des résultats de mesurage\n",
    "* des différentes sources d'incertitude avec leur estimation si elles sont non négligeables"
   ]
  },
  {
   "cell_type": "markdown",
   "id": "23e260fc",
   "metadata": {},
   "source": [
    "## Estimation de la célérité.\n",
    "\n",
    "### Estimation simple\n",
    "Vous aller devoir utiliser la cellule suivante pour déterminer la célérité. On ne s'occupe pas pour l'instant de déterminer son incertitude."
   ]
  },
  {
   "cell_type": "code",
   "execution_count": 1,
   "id": "7de84007",
   "metadata": {
    "tags": [
     "remove-output",
     "hide-input"
    ]
   },
   "outputs": [
    {
     "name": "stdout",
     "output_type": "stream",
     "text": [
      "c = 0\n"
     ]
    }
   ],
   "source": [
    "\"\"\"\n",
    "Vous devez commencer par importer les bibliothèques utiles :\n",
    "- numpy (manipulation de vecteurs de valeurs)\n",
    "- numpy.random (simulation de tirages aléatoires)\n",
    "- matplotlib.pyplot (tracés graphiques)\n",
    "Elles seront utiles par la suite (pas pour cette cellule).\n",
    "\"\"\"\n",
    "import numpy as np  # Pour le calcul sur un ensemble de valeurs\n",
    "import numpy.random as rd  # Pour la création de nombres aléatoires\n",
    "import matplotlib.pyplot as plt  # Pour les tracés graphiques\n",
    "\n",
    "\"\"\"\n",
    "Il faudra bien sûr modifier cette partie en TP.\n",
    "\n",
    "Enregistrer les valeurs mesurées dans des variables t1_m, t2_m, d1_m et d2_m\n",
    "\"\"\"\n",
    "N = 1000000  # Nombre de simulations\n",
    "t1_m = 34  # Valeur mesurée pour t1\n",
    "t2_m = 0  # Valeur mesurée pour t2\n",
    "d1_m = 0  # Valeur mesurée pour d1\n",
    "d2_m = 0  # Valeur mesurée pour d2\n",
    "\n",
    "\n",
    "# Estimation de la célérité\n",
    "c_m = 0  # Utiliser LES VARIABLES introduites précédemment pour estimer la célérité des ondes.\n",
    "\n",
    "print(\"c = \" + str(c_m))  # ATTENTION : Les chiffres ne sont évidemment pas tous significatifs."
   ]
  },
  {
   "cell_type": "markdown",
   "id": "93dda003",
   "metadata": {},
   "source": [
    "### Combinaison des incertitudes. Simulation de Monte-Carlo.\n",
    "\n",
    "Pour rappel, la méthode de Monte-Carlo consiste:\n",
    "* On répète N fois:\n",
    "    1. à simuler de nouvelles valeurs des mesurandes directes (_ici $t_1, t_2, d_1, d_2$_) : on réalise, pour chaque source d'incertitude un tirage aléatoire d'une valeur suivant la distribution choisie (ici des distributions __uniformes__ de largeur estimée lors de l'expérience - `numpy.random.uniform(a : float, b :float) -> float`) auquel on ajoute la valeur mesurée (`t1_m, t2_m, d1_m, d2_m`).\n",
    "    2. à déterminer une nouvelle valeur simulée du mesurandes indirect recherché (_ici $c$_) et stocker cette valeur dans une liste prévue au préalable.\n",
    "* On obtient ainsi une liste de N valeurs de $c$ simulées à partir des tirages aléatoires. On peut donc calculer des grandeurs statistiques. On calculera ainsi:\n",
    "    1. L'écart-type (`numpy.std(liste_val : list, ddof=1) -> float`)de la liste de valeurs et __on considèrera cet ecart-type comme étant l'incertitude sur $c$.__\n",
    "\n",
    "\n",
    "#### Monte-Carlo : Méthode 1\n",
    "La première méthode est la plus simple à comprendre et à mettre en oeuvre. Elle présente par contre le plus long temps d'exécution.\n",
    "\n",
    "_Note: La ligne %time permet simplement d'afficher le temps de calcul de la cellule entière._"
   ]
  },
  {
   "cell_type": "code",
   "execution_count": 2,
   "id": "b3ed7585",
   "metadata": {
    "tags": [
     "remove-output",
     "hide-input"
    ]
   },
   "outputs": [
    {
     "name": "stdout",
     "output_type": "stream",
     "text": [
      "CPU times: total: 0 ns\n",
      "Wall time: 0 ns\n"
     ]
    },
    {
     "name": "stdout",
     "output_type": "stream",
     "text": [
      "u(c) = 0.0\n"
     ]
    }
   ],
   "source": [
    "%time\n",
    "\"\"\"\n",
    "Il faut d'abord rentrer les DEMIE-LARGEURS des distributions pour chaque sources d'incertitude de chaque grandeur.\n",
    "- S'il y a moins de sources d'incertitude, supprimez en.\n",
    "- S'il y a plus de sources d'incertitude, ajoutez en en vous aidant du modèle.\n",
    "\"\"\"\n",
    "# Incertitudes estimées\n",
    "# sur t1 --- \n",
    "t1_u1u = 0.3  # Demie-largeur de la première source d'incertitude de t1\n",
    "t1_u2u = 0.1  # Demie-largeur de la deuxième source d'incertitude de t1\n",
    "\n",
    "# sur t2 ---\n",
    "\n",
    "\n",
    "\n",
    "# sur  d1 ---\n",
    "\n",
    "\n",
    "\n",
    "# sur d2 ---\n",
    "\n",
    "\n",
    "\n",
    "# INITIALISATION\n",
    "N = 100000  # Nombre de simulations réalisées.\n",
    "c_sim = []  # Liste vide où on va stocker les valeurs\n",
    "\n",
    "for i in range(N):\n",
    "    \"\"\"\n",
    "    On reprend le même code que pour calculer une valeur de c.\n",
    "    Sauf que les valeur de t1, t2, ... sont légèrement modifiées par un tirage aléatoires\n",
    "    pour CHAQUE sources d'incertitudes.\n",
    "    \"\"\"\n",
    "    # MODIFIER ces lignes en fonction du nombre de sources d'incertitudes estimées précédemment.\n",
    "    t1_sim = t1_m + rd.uniform(-t1_u1u, t1_u1u) + rd.uniform(-t1_u2u, t1_u2u)\n",
    "    t2_sim = t2_m\n",
    "    d1_sim = d1_m\n",
    "    d2_sim = d2_m \n",
    "\n",
    "    c = 0 # A modifier en le calcul comme précédemment (mais avec les t1_sim,...)\n",
    "\n",
    "    c_sim.append(c)  # On stocke la valeur simulées\n",
    "\n",
    "\"\"\"\n",
    "Estimation de l'incertitude de mesure\n",
    "\"\"\"\n",
    "c_u = np.std(c_sim, ddof=1)\n",
    "\n",
    "print(\"u(c) = \" + str(c_u))"
   ]
  },
  {
   "cell_type": "markdown",
   "id": "dfff7f29",
   "metadata": {},
   "source": [
    "#### Monte-Carlo : Méthode 2\n",
    "La deuxième méthode conserve l'idée de l'itération précédente mais elle va créer les N valeurs simulées des mesurandes directes (_ici $t_1, t_2, d_1, d_2$_) d'un seul coup AVANT la boucle. On ira piocher dans les listes ainsi créées. L'avantage est que la création des N valeurs est beaucoup plus rapide. Il suffit de rajouter un troisième argument optionnel : `numpy.random.uniform(a: float, b: float, N: int) -> ndarray`. On obtient alors un _vecteur numpy_ (`ndarray`) et non une seule valeur."
   ]
  },
  {
   "cell_type": "code",
   "execution_count": 3,
   "id": "5151a459",
   "metadata": {
    "tags": [
     "remove-output",
     "hide-input"
    ]
   },
   "outputs": [
    {
     "name": "stdout",
     "output_type": "stream",
     "text": [
      "CPU times: total: 0 ns\n",
      "Wall time: 0 ns\n",
      "u(c) = 0.0\n"
     ]
    }
   ],
   "source": [
    "%time\n",
    "\"\"\"\n",
    "Il n'est pas utile de redéfinir les incertitudes t1_u1u...\n",
    "Si vous avez exécuté le bloc précédent, elles sont en mémoire.\n",
    "\"\"\"\n",
    "\n",
    "# INITIALISATION\n",
    "N = 100000  # Nombre de simulations réalisées.\n",
    "c_sim = []  # Liste vide où on va stocker les valeurs\n",
    "\n",
    "# On simule ici N valeurs d'un seul coup pour chaque mesurandes directs.\n",
    "# MODIFIER les différentes lignes pour l'adapter aux exemples ici.\n",
    "t1_sims = t1_m + rd.uniform(-t1_u1u, t1_u1u, N) + rd.uniform(-t1_u2u, t1_u2u, N)\n",
    "t2_sims = t2_m\n",
    "d1_sims = d1_m\n",
    "d2_sims = d2_m \n",
    "\n",
    "for i in range(N):\n",
    "    \"\"\"\n",
    "    On reprend le même code que pour calculer une valeur de c.\n",
    "    Sauf qu'on ne refait par le tirage aléatoire, on pioche juste dans les valeurs déjà simulées.\n",
    "    \"\"\"\n",
    "    # MODIFIER ces lignes en vous aidant de la première.\n",
    "    t1_sim = t1_sims[i]\n",
    "    t2_sim = t2_m\n",
    "    d1_sim = d1_m\n",
    "    d2_sim = d2_m \n",
    "\n",
    "    c = 0 # A modifier en le calcul comme précédemment (mais avec les t1_sim,...)\n",
    "\n",
    "    c_sim.append(c)  # On stocke la valeur simulées\n",
    "\n",
    "\"\"\"\n",
    "Estimation de l'incertitude de mesure\n",
    "\"\"\"\n",
    "c_u = np.std(c_sim, ddof=1)\n",
    "\n",
    "print(\"u(c) = \" + str(c_u))"
   ]
  },
  {
   "cell_type": "markdown",
   "id": "c9f29e53",
   "metadata": {},
   "source": [
    "#### Monte-Carlo : Méthode 3\n",
    "On peut encore gagner du temps en utilisant la __vectorialisation__. En effet, les opérations pour obtenir $c$ (soustractions et division) peut s'appliquer __directement entre deux vecteurs numpy terme à terme.__"
   ]
  },
  {
   "cell_type": "code",
   "execution_count": 4,
   "id": "0c11fa49",
   "metadata": {
    "tags": [
     "remove-output",
     "hide-input"
    ]
   },
   "outputs": [
    {
     "name": "stdout",
     "output_type": "stream",
     "text": [
      "CPU times: total: 0 ns\n",
      "Wall time: 0 ns\n",
      "<class 'int'>\n",
      "u(c) = nan\n"
     ]
    },
    {
     "name": "stderr",
     "output_type": "stream",
     "text": [
      "D:\\cedri\\anaconda3\\envs\\prepa\\lib\\site-packages\\numpy\\core\\_methods.py:265: RuntimeWarning: Degrees of freedom <= 0 for slice\n",
      "  ret = _var(a, axis=axis, dtype=dtype, out=out, ddof=ddof,\n",
      "D:\\cedri\\anaconda3\\envs\\prepa\\lib\\site-packages\\numpy\\core\\_methods.py:257: RuntimeWarning: invalid value encountered in double_scalars\n",
      "  ret = ret.dtype.type(ret / rcount)\n"
     ]
    }
   ],
   "source": [
    "%time\n",
    "\"\"\"\n",
    "Il n'est pas utile de redéfinir les incertitudes t1_u1u...\n",
    "Si vous avez exécuté le bloc précédent, elles sont en mémoire.\n",
    "\"\"\"\n",
    "\n",
    "\n",
    "\n",
    "# INITIALISATION\n",
    "N = 100000  # Nombre de simulations réalisées.\n",
    "c_sim = []  # Liste vide où on va stocker les valeurs\n",
    "\n",
    "# On simule ici N valeurs d'un seul coup pour chaque mesurandes directs.\n",
    "# MODIFIER les différentes lignes pour l'adapter aux exemples ici.\n",
    "t1_sims = t1_m + rd.uniform(-t1_u1u, t1_u1u, N) + rd.uniform(-t1_u2u, t1_u2u, N)\n",
    "t2_sims = t2_m\n",
    "d1_sims = d1_m\n",
    "d2_sims = d2_m \n",
    "\n",
    "# MODIFIER la ligne ci après en utilisant t1_sims, t2_sims... comme si c'était de simple flottants.\n",
    "# Comme ce sont des vecteurs numpy, la vectorialisation appliquera la relation mathématiques terme à terme : c_sim est un vecteur.\n",
    "c_sim = 0\n",
    "print(type(c_sim))  # Observer en sortie que c_sim est bien un vecteur de taille N\n",
    "\n",
    "\n",
    "\"\"\"\n",
    "Estimation de l'incertitude de mesure\n",
    "\"\"\"\n",
    "c_u = np.std(c_sim, ddof=1)\n",
    "\n",
    "print(\"u(c) = \" + str(c_u))"
   ]
  },
  {
   "cell_type": "markdown",
   "id": "5dc9924b",
   "metadata": {},
   "source": [
    "Cette dernière méthode, BEAUCOUP PLUS RAPIDE,  peut s'appliquer tant que les opérations mises en jeu sont vectorialisables par numpy soit:\n",
    "* `+,-,/,*`\n",
    "* les fonctions usuelles `numpy.sin, numpy.cos, numpy.tan, numpy.log, numpy.exp...` __à condition qu'elle proviennent de la bibliothèqe numpy et non la bibliothèque math.__\n",
    "\n",
    "Exception notoire:\n",
    "* `numpy.polyfit` qui permet de faire des régression linéaire n'est pas vectorialisable.\n",
    "\n",
    "#### Autre avantage des méthodes 2 et 3\n",
    "On obtient par ces méthodes une liste (vecteur pour être précis) de valeurs simulées aussi pour $t_1, t_2...$^. On peut donc aussi calculer l'incertitude-type pour ces grandeurs et donc en rendre-compte dans son compte-rendu. Ici:"
   ]
  },
  {
   "cell_type": "code",
   "execution_count": 5,
   "id": "240c4f71",
   "metadata": {
    "tags": [
     "remove-output",
     "hide-input"
    ]
   },
   "outputs": [
    {
     "name": "stdout",
     "output_type": "stream",
     "text": [
      "t1 = 34 +/- 0.18233305068986316\n",
      "t2 = 0 +/- 0\n",
      "d1 = 0 +/- 0\n",
      "d2 = 0 +/- 0\n",
      "c = 0 +/- nan\n"
     ]
    }
   ],
   "source": [
    "# MODIFIER les lignes suivantes en s'inspirant de la première\n",
    "t1_u = np.std(t1_sims, ddof=1)  # Incertitude sur t1\n",
    "t2_u = 0\n",
    "d1_u = 0\n",
    "d2_u = 0\n",
    "\n",
    "\n",
    "print(\"t1 = {} +/- {}\".format(t1_m, t1_u))  # Forme pas à connaître mais très utile pour afficher un texte complexe.\n",
    "print(\"t2 = {} +/- {}\".format(t2_m, t2_u))\n",
    "print(\"d1 = {} +/- {}\".format(d1_m, d1_u))\n",
    "print(\"d2 = {} +/- {}\".format(d2_m, d2_u))\n",
    "print(\"c = {} +/- {}\".format(c_m, c_u))"
   ]
  },
  {
   "cell_type": "markdown",
   "id": "14fc2315",
   "metadata": {},
   "source": [
    "### Rendez-compte de votre mesure\n",
    "L'affichage précédent n'__est pas acceptable__ car :\n",
    "* il affiche trop de chiffres\n",
    "* il ne donne pas l'unité.\n",
    "\n",
    "__Un résultat de mesure unique avec incertitude doit s'écrire sous la forme :__\n",
    "\n",
    "$$\n",
    "G = (G_{mes} \\pm u(G)) \\rm{Unités}\n",
    "$$\n",
    "\n",
    "Vous devez respectez les contraintes suivantes :\n",
    "* L'incertitude de mesure doit avoir 2 chiffres significatifs\n",
    "* La valeur mesure doit avoir la même précision que l'incertitude ne mesure.\n",
    "\n",
    "Rendre-compte de votre résultat de mesure.\n",
    "\n",
    "$$\n",
    "c = (Resultat de mesurage \\pm Incertitude) (Facultatif: \\times Puissance de 10) \\rm{Unité}\n",
    "$$"
   ]
  },
  {
   "cell_type": "markdown",
   "id": "ac67a276",
   "metadata": {},
   "source": [
    "## Données théoriques\n",
    "D'après la littérature, la célérité du son dépend de la température et peut être approximée par la fonction :\n",
    "\n",
    "$$\n",
    "c_{air} = 331,5 + 0,607 \\theta\n",
    "$$\n",
    "\n",
    "autour de la température ambiante où $\\theta$ est la température en __Celsius__.\n",
    "\n",
    "_(Robert N. Compton et Michael A. Duncan, Laser Experiments for Chemistry and Physics)_\n",
    "\n",
    "> 1. Ecrire une fonction `cel_T(T)` qui prend comme argument un flottant (température T) et qui renvoie un flottant : la célérité(en m/s). L'utiliser pour estimer la celérité attendue.\n",
    "> 2. Estimer, on moyen d'une simulation Monte-Carlo l'incertitude sur la célérité attendue en supposant que la seule source d'incertitude vient de la mesure de la température.\n",
    "> 2. Calculer l'écart normalisé entre la célérité estimée par votre mesure et celle donnée par la littérature. Conclure quant à la compatibilité entre votre expérience et le modèle proposé.\n",
    "\n",
    "Pour rappel, l'écart-normalisé est:\n",
    "\n",
    "$$\n",
    "EN = \\frac{\\left\\vert c_{exp} - c_{attendue} \\right\\vert}{\\sqrt{u(c_{exp})^2 + u(c_{attendue})^2}}\n",
    "$$"
   ]
  },
  {
   "cell_type": "code",
   "execution_count": 6,
   "id": "1ed19574",
   "metadata": {
    "tags": [
     "remove-output",
     "hide-input"
    ]
   },
   "outputs": [
    {
     "name": "stdout",
     "output_type": "stream",
     "text": [
      "0\n"
     ]
    }
   ],
   "source": [
    "def cel_T(T):\n",
    "    \"\"\"Fonction renvoie la célérité pour une température T\"\"\"\n",
    "    return True\n",
    "\n",
    "\"\"\"Estimation de c_attendue\"\"\"\n",
    "\n",
    "\n",
    "\n",
    "\n",
    "\"\"\"Estimation de l'incertitude sur c_atttendue\"\"\"\n",
    "\n",
    "\n",
    "\n",
    "\n",
    "\"\"\"Calculer l'écart normalisé.\"\"\"\n",
    "en = 0\n",
    "\n",
    "print(en)"
   ]
  },
  {
   "cell_type": "markdown",
   "id": "27ffd678",
   "metadata": {},
   "source": [
    "````{important} \n",
    "Que ce soit ici en codant sous Python ou par écrit en analysant un ensemble de résultats ou une courbe, l'exploitation n'est JAMAIS automatique et demande TOUJOURS de réfléchir en détail à vos résultats.\n",
    "````"
   ]
  }
 ],
 "metadata": {
  "jupytext": {
   "encoding": "# -*- coding: utf-8 -*-",
   "formats": "ipynb,py:percent",
   "split_at_heading": true,
   "text_representation": {
    "extension": ".md",
    "format_name": "myst",
    "format_version": 0.13,
    "jupytext_version": "1.10.3"
   }
  },
  "kernelspec": {
   "display_name": "Python 3",
   "language": "python",
   "name": "python3"
  },
  "language_info": {
   "codemirror_mode": {
    "name": "ipython",
    "version": 3
   },
   "file_extension": ".py",
   "mimetype": "text/x-python",
   "name": "python",
   "nbconvert_exporter": "python",
   "pygments_lexer": "ipython3",
   "version": "3.9.15"
  },
  "source_map": [
   15,
   19,
   28,
   70,
   77,
   106,
   122,
   173,
   178,
   218,
   223,
   256,
   268,
   283,
   307,
   330,
   351
  ]
 },
 "nbformat": 4,
 "nbformat_minor": 5
}