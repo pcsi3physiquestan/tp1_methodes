{
 "cells": [
  {
   "cell_type": "markdown",
   "id": "separate-worker",
   "metadata": {},
   "source": [
    "# (TP) Application à l'étude des ultrasons.\n",
    "On reprend l'étude de la propagation des ultrasons. Le but est de déterminer la célérité du son dans l'air. \n",
    "Le protocole réalisé et le matériel utilisé est celui proposé dans l'[exercice que vous avez fait précédemment](exo_protocole).\n",
    "\n",
    "## Réalisation du protocole et estimation des incertitudes-type\n",
    "Cette partie sera réalisée en TP. Lisez-là pour savoir ce que vous devrez faire mais vous ne pourrez pas faire grand chose avant le TP (sauf précision)."
   ]
  },
  {
   "cell_type": "markdown",
   "id": "acute-frontier",
   "metadata": {},
   "source": [
    "### Mise en place\n",
    "Le protocole à réaliser est affichable en cliquant sur la croix à droite.\n",
    "\n",
    "```{toggle}\n",
    "1. Réaliser le montage en n'oubliant pas d'alimenter l'émetteur et de le régler et en branchant les deux récepteurs sur la console FOXY.\n",
    "2. Préparer l'acquisition (_Conseil : décocher l'option \"Fermer au lancement de l'acquisition\" pour garder cette fenere de réglage durant le TP_):\n",
    "    * Choisir les voies à acquérir (_icone rouge et noir à droite du graphique_)\n",
    "        1. Les placer (glisser-déplacer) sur l'axe des ordonnées du petit graphique.\n",
    "        2. Les nommer clairement (onglet `Grandeur` sous le petit graphique)\n",
    "        3. Choisir le calibre de chaque voie (le signal ne dépassera pas 10V).\n",
    "    * Régler la base de temps de l'acquisition\n",
    "        1. Choisir d'acquérir en fonction du temps (Horloge à placer sur l'axe des abscisses)\n",
    "        2. Régler la durée d'acquisition (dans `Fonction du temps`) en cohérence avec la manipulation (Comment choisir ce temps ?)\n",
    "        3. Régler le nombre de points à 10000 (on apprendra plus tard à réfléchir à ce choix).\n",
    "        4. Cocher `Acquisition continue` de manière à ne pas avoir besoin de relancer l'acquisition à chaque fois.\n",
    "    * Régler la synchronisation : il faut choisir à quelle valeur démarrera l'affichage des signaux pour observer un signal stable.\n",
    "        1. Dans `Synchronisation` choisir la `Voie de synchro` correspondant au signal réçu par Récepteur 1.\n",
    "        2. Choisir une `Niveau` de 1(V) `Croissant`.\n",
    "    * Vous pouvez maintenant lancer l'acquisition !\n",
    "\n",
    "```\n",
    "\n",
    "### Réalisation des mesures - Bilan des incertitudes\n",
    "\n",
    "Vous devez maintenant réaliser la mesure.\n",
    "\n",
    "```{attention}\n",
    "Au préalable, vous devrez discuter avec le reste du groupe pour vous répartir les distances de mesure de sorte que chaque élève fasse une mesure de temps de vol pour une distance différente.\n",
    "```\n",
    "\n",
    "Rendre compte :\n",
    "* des résultats de mesurage\n",
    "* des différentes sources d'incertitude avec leur estimation si elles sont non négligeables"
   ]
  },
  {
   "cell_type": "markdown",
   "id": "purple-private",
   "metadata": {},
   "source": [
    "## Combinaison des incertitudes. Simulation de Monte-Carlo.\n",
    "\n",
    "Vous allez devoir :\n",
    "1. Ecrire une série d'instructions qui simule le tirage de chaque sources d'incertitudes N fois (N = 1000000)\n",
    "2. Combiner ces sources d'incertitudes pour obtenir les distributions des grandeurs $t_1, t_2, d_1$\n",
    " et $d_2$\n",
    "4. Estimer l'incertitude-type sur chaque grandeur et le résultat de mesurage pour chaque grandeur.\n",
    "3. Représenter graphiquement les histogrammes des distributions pour les 4 grandeurs. Commenter leur allure\n",
    "\n",
    "Compléter la cellule de code ci-dessous et exécutez là."
   ]
  },
  {
   "cell_type": "code",
   "execution_count": 1,
   "id": "right-climb",
   "metadata": {},
   "outputs": [
    {
     "name": "stdout",
     "output_type": "stream",
     "text": [
      "t1 =  34\n",
      "t2) =  0\n",
      "d1 =  0\n",
      "d2 =  0\n",
      "u(t1) =  0.13251400424359258\n",
      "u(t2) =  0\n",
      "u(d1) =  0\n",
      "u(d2) =  0\n"
     ]
    },
    {
     "data": {
      "image/png": "[encoded data removed]",
      "text/plain": [
       "<Figure size 900x600 with 4 Axes>"
      ]
     },
     "metadata": {
      "filenames": {
       "image/png": "/home/ubuntu/Dropbox/Enseignement prepas/travaux_pratiques/sources/tp1_methodes/_build/jupyter_execute/notebook/exo_estimation_3_1.png"
      },
      "needs_background": "light"
     },
     "output_type": "display_data"
    }
   ],
   "source": [
    "import matplotlib.pyplot as plt\n",
    "\"\"\"\n",
    "Vous devez commencer par importer les bibliothèques utiles :\n",
    "- numpy (manipulation de vecteurs de valeurs)\n",
    "- numpy.random (simulation de tirages aléatoires)\n",
    "- matplotlib.pyplot (tracés graphiques)\n",
    "\n",
    "Pour cette première fois, nous le faisons pour vous. Faites attention aux alias.\n",
    "\"\"\"\n",
    "import numpy as np\n",
    "import numpy.random as rd\n",
    "import matplotlib.pyplot as plt\n",
    "\n",
    "\n",
    "\"\"\"\n",
    "Créer maintenant, pour chaque source d'incertitude un vecteur de taille N simulant chaque sources d'incertitudes.\n",
    "On rappelle :\n",
    "- qu'il faut centrer les distributions sur 0. Vous ajouterez ensuite le résultat de mesurage.\n",
    "- pour une distribution normale d'espérance m et d'écart-type s, la fonction à utiliser est rd.normal(m, s, N)\n",
    "- pour une distribution uniforme entre a et b, la fonction à utiliser est rd.uniform(a, b, N)\n",
    "ATTENTION : Le \"rd\" ne fonctionne que parce que (vous) avez importé la bibliothèque numpy.random avec l'alias \"rd\".\n",
    "\n",
    "On a mis un exemple pour t1 en supposant deux sources d'incertitudes.\n",
    "\n",
    "Chez vous, simulez un nombre de sources d'incertitude faible \n",
    "pour chaque mesurande avec des valeurs arbitraires (mais pas trop!).\n",
    "Vous pourrez ainsi tester le reste de votre script.\n",
    "\n",
    "Il faudra bien sûr modifier cette partie en TP.\n",
    "\n",
    "Enregistrer les valeurs mesurées dans des variables t1_m, t2_m, d1_m et d2_m\n",
    "\"\"\"\n",
    "N = 1000000\n",
    "t1_m = 34  # Valeur mesurée pour t1\n",
    "t2_m = 0  # Valeur mesurée pour t2\n",
    "d1_m = 0  # Valeur mesurée pour d1\n",
    "d2_m = 0  # Valeur mesurée pour d2\n",
    "\n",
    "# t1\n",
    "t1_u1u = 0.3  # Ecart-type de la première source d'incertitude de t1\n",
    "t1_u2u = 0.1  # Ecart-type de la deuxième source d'incertitude de t1\n",
    "t1_u1 = rd.uniform(0, t1_u1u, N)  # Le choix de la distribution est arbitraire\n",
    "t1_u2 = rd.normal(0, t1_u2u, N)  # Le choix de la distribution est arbitraire\n",
    "\n",
    "# t2\n",
    "\n",
    "# d1\n",
    "\n",
    "# d2\n",
    "\n",
    "\"\"\"\n",
    "Déterminer la distribution statistique pour t1, t2, d1 et d2.\n",
    "On oubliera pas d'ajouter le résultat de mesurage pour centrer ces grandeurs sur leur valeur mesurée.\n",
    "\n",
    "Exemple de code :\n",
    "t1_sim = t1_val + ut11 + ut12\n",
    "si t1_val est le résultat de mesurage et ut11, ut12 les vecteurs simulés\n",
    "ATTENTION : Ne PAS changer les noms des variables t1_sim...\n",
    "car ils seront utilisées pour le tracés des histogrammes.\n",
    "\n",
    "On donne à nouveau l'exemple pour t1\n",
    "\"\"\"\n",
    "t1_sim = t1_m + t1_u1 + t1_u2\n",
    "t2_sim = 0\n",
    "d1_sim = 0\n",
    "d2_sim = 0\n",
    "\n",
    "\n",
    "\n",
    "\n",
    "\"\"\"\n",
    "Déterminer l'incertitude-type pour chaque mesurande t1, t2, d1 et d2\n",
    "On rappelle la fonction std(X, ddof=1) qui calculer l'écart-type des éléments du vecteur X.\n",
    "ATTENTION, cette fonction fait partie de la bibliothèque numpy\n",
    "Pour l'affichage :\n",
    "Enregistrer les incertitude-type dans des variables t1_u, t2_u, d1_u et d2_u.\n",
    "\"\"\"\n",
    "t1_u = np.std(t1_sim, ddof=1)\n",
    "t2_u = 0\n",
    "d1_u = 0\n",
    "d2_u = 0\n",
    "\n",
    "\n",
    "\"\"\"\n",
    "Les lignes ci-dessous vous donneront les résultats des estimations des incertitudes-type de mesures.\n",
    "ATTENTION : Les chiffres significatifs ne sont pas bons.\n",
    "\"\"\"\n",
    "print(\"t1 = \", t1_m)\n",
    "print(\"t2) = \", t2_m)\n",
    "print(\"d1 = \", d1_m)\n",
    "print(\"d2 = \", d2_m)\n",
    "print(\"u(t1) = \", t1_u)\n",
    "print(\"u(t2) = \", t2_u)\n",
    "print(\"u(d1) = \", d1_u)\n",
    "print(\"u(d2) = \", d2_u)\n",
    "\n",
    "\n",
    "\"\"\"Tracé graphique\n",
    "Le squelette des instructions est donné. Vous verrez ainsi comment tracer 4 graphiques\n",
    "dans une même fenêtre.\n",
    "\"\"\"\n",
    "f, axs = plt.subplots(2, 2, figsize=(9,6), dpi=100)  # Création d'une fenêtre graphique avec 4 axes répartis sur 2 colonnes et 2 lignes.\n",
    "f.suptitle(\"Distribution des mesurandes directs\")  # Titre global\n",
    "\"\"\"\n",
    "axs est une liste contenant les 4 axes (=graphiques)\n",
    "Pensez à changer l'unité des valeurs (légende de l'axe des abscisses suivant vos mesures).\n",
    "\"\"\"\n",
    "nbins = 100  # Nombres de bâtons\n",
    "\n",
    "# Tracé de t1\n",
    "axs[0][0].hist(t1_sim, nbins, label=\"t1\")\n",
    "axs[0][0].set_xlabel(\"Valeurs (s)\")  # Légende de l'axe des abscisses\n",
    "axs[0][0].legend()  # Affichage de la légende (pour savoir que c'est t1)\n",
    "\n",
    "axs[1][0].hist(t2_sim, nbins, label=\"t2\")\n",
    "axs[1][0].set_xlabel(\"Valeurs (s)\")  # Légende de l'axe des abscisses\n",
    "axs[1][0].legend()\n",
    "\n",
    "axs[0][1].hist(d1_sim, nbins, label=\"d1\")\n",
    "axs[0][1].set_xlabel(\"Valeurs (m)\")  # Légende de l'axe des abscisses\n",
    "axs[0][1].legend()\n",
    "\n",
    "axs[1][1].hist(d2_sim, nbins, label=\"d2\")\n",
    "axs[1][1].set_xlabel(\"Valeurs (m)\")  # Légende de l'axe des abscisses\n",
    "axs[1][1].legend()\n",
    "\n",
    "plt.show()"
   ]
  },
  {
   "cell_type": "markdown",
   "id": "measured-invasion",
   "metadata": {},
   "source": [
    "Pour analyser correctement les valeurs des mesurandes directs et leur incertitudes on va les afficher correctement, ce qui implique :\n",
    "- de choisir où tronquer l'incertitude de mesure. On prendra l'habitude de ne garder que __2 chiffres significatifs sur l'incertitude-type__.\n",
    "- de tronquer le résultat de mesurage en cohérence : sa précision (puissance de 10 du dernier chiffre affiché) doit être la même que l'incertitude-type.\n",
    "\n",
    "Grâce aux valeurs affichés précédemment, rendre-compte dans votre compte-rendu de la mesure de $t_1, t_2, d_1$ et $d_2$ en choisissant correctement l'arrondi de l'incertitude-type et de la valeur mesurée. __On oubliera pas non plus l'unité.__\n",
    "\n",
    "Forme à donner :\n",
    "\n",
    "$$t_1 = ... \\pm ...$$\n",
    "$$t_2 = ... \\pm ...$$\n",
    "$$d_1 = ... \\pm ...$$\n",
    "$$d_2 = ... \\pm ...$$"
   ]
  },
  {
   "cell_type": "markdown",
   "id": "equal-tactics",
   "metadata": {},
   "source": [
    "## Estimation de la célérité du son. Propagation d'incertitude.\n",
    "\n",
    "### Votre travail\n",
    "\n",
    "Vous devez utiliser les résultats précédents pour obtenir une estimation de la célérité du son et de son incertitude de mesure.\n",
    "\n",
    "Il n'est pas utile de refaire toute la simulation. Vous disposez déjà de N échantillon simulés pour $t_1,t_2, d_1, d_2$ (`t1_sim, t2_sim, d1_sim, d2_sim`). Vous allez devoir:\n",
    "1. Créer deux vecteurs `dt_sim` et `D_sim` correspondent aux N simulations de tirages pour la durée de vol et la distance E-R\n",
    "2. Créer un vecteur `c_sim` contenantles N simulations des valeurs de la célérité du son\n",
    "3. Obtenir la moyenne `cm` et l'écart-type `uc` du vecteur `c_sim`.\n",
    "4. Tracer l'histogramme des valeurs simulés de la célérité `c`.\n",
    "</font>\n",
    "\n",
    "Les étapes ont été données, vous n'êtes pas guidés par cette partie. Quelques rappels :\n",
    "* la fonction `f, ax = plt.subplots()` permet de créer une figure et des axes à l'intérieur. La figure est enregistrée dans `f` et les axes dans `ax`\n",
    "* la fonction `suptitle(\"Titre\")` donne un titre à une figure. Pour donner un titre à une figure particulière (par exemple `f`), écrire `f.suptitle(...)`\n",
    "* les fonction `set_xlabel(...)` et `set_ylabel(...)` légendent les axes. Pour donner une légende à des axes particuliers (par exemple `ax`), écrire `ax.set_xlabel()`\n",
    "* le tracé d'un histogramme passe par la fonction `hist(valeurs, bins=100)`. Pour la tracer dans des axes particuliers (par exemple `ax`), écrire `ax.hist(...)`\n",
    "* l'option `bins = 100` dans la fonction `hist` permet de tracer 100 bâtons dans l'histogramme."
   ]
  },
  {
   "cell_type": "markdown",
   "id": "indirect-beijing",
   "metadata": {},
   "source": [
    "### A vous de coder"
   ]
  },
  {
   "cell_type": "code",
   "execution_count": 2,
   "id": "geological-section",
   "metadata": {},
   "outputs": [
    {
     "name": "stdout",
     "output_type": "stream",
     "text": [
      "c =  0\n",
      "uc =  0\n"
     ]
    }
   ],
   "source": [
    "\"\"\"\n",
    "Il n'est pas nécessaire de réimporter les bibliothèques puisque vous les avez déjà importés.\n",
    "\"\"\"\n",
    "dt_sim = 0  # Simulation des temps de vol\n",
    "D_sim = 0  # Simulation des distances\n",
    "\n",
    "c_sim = 0  # Simulation des célérités\n",
    "\n",
    "cm = 0  \n",
    "uc = 0\n",
    "\n",
    "\"\"\"\n",
    "Les lignes ci-dessous afficheront les résultats attention aux noms de variables\n",
    "\"\"\"\n",
    "print(\"c = \", cm)\n",
    "print(\"uc = \", uc)"
   ]
  },
  {
   "cell_type": "markdown",
   "id": "exotic-ethiopia",
   "metadata": {},
   "source": [
    "### Rendez-compte de votre mesure\n",
    "L'affichage précédent n'est pas acceptable car :\n",
    "* il affiche trop de chiffres\n",
    "* il ne donne pas l'unité.\n",
    "\n",
    "__Un résultat de mesure unique avec incertitude doit s'écrire sous la forme :__\n",
    "$$\n",
    "G = (G_{mes} \\pm u(G)) Unités\n",
    "$$\n",
    "\n",
    "Vous devez respectez les contraintes suivantes :\n",
    "* L'incertitude de mesure doit avoir 2 chiffres significatifs\n",
    "* La valeur mesure doit avoir la même précision que l'incertitude ne mesure.\n",
    "\n",
    "Rendre-compte de votre résultat de mesure.\n",
    "\n",
    "$$\n",
    "c = (Résultat de mesurage \\pm Incertitude) (Facultatif: \\times Puissance de 10) Unité\n",
    "$$"
   ]
  },
  {
   "cell_type": "markdown",
   "id": "neither-speed",
   "metadata": {},
   "source": [
    "## Données théoriques\n",
    "D'après la littérature, la célérité du son dépend de la température et peut être approximée par la fonction :\n",
    "\n",
    "$$\n",
    "c_{air} = 331,5 + 0,607 \\theta\n",
    "$$\n",
    "\n",
    "autour de la température ambiante où $\\theta$ est la température en __Celsius__.\n",
    "\n",
    "_(Robert N. Compton et Michael A. Duncan, Laser Experiments for Chemistry and Physics)_\n",
    "\n",
    "1. Ecrire une fonction cel_T(T) qui prend comme argument un flottant (température T) et qui renvoie un flottant : la célérité(en m/s)\n",
    "2. Calculer l'écart normalisé entre la célérité estimée par votre mesure et celle donnée par la littérature (par manque d'information, on considèrera que cette valeur n'a pas d'incertitude). Conclure quant à la compatibilité entre votre expérience et le modèle proposé."
   ]
  },
  {
   "cell_type": "code",
   "execution_count": 3,
   "id": "average-planning",
   "metadata": {},
   "outputs": [
    {
     "name": "stdout",
     "output_type": "stream",
     "text": [
      "0\n"
     ]
    }
   ],
   "source": [
    "def cel_T(T):\n",
    "    \"\"\"Fonction renvoie la célérité pour une température T\"\"\"\n",
    "    return True\n",
    "\n",
    "\"\"\"Calculer l'écart normalisé.\"\"\"\n",
    "en = 0\n",
    "\n",
    "print(en)\n"
   ]
  }
 ],
 "metadata": {
  "jupytext": {
   "encoding": "# -*- coding: utf-8 -*-",
   "formats": "ipynb,py:percent",
   "split_at_heading": true,
   "text_representation": {
    "extension": ".md",
    "format_name": "myst",
    "format_version": 0.13,
    "jupytext_version": "1.10.3"
   }
  },
  "kernelspec": {
   "display_name": "Python 3",
   "language": "python",
   "name": "python3"
  },
  "language_info": {
   "codemirror_mode": {
    "name": "ipython",
    "version": 3
   },
   "file_extension": ".py",
   "mimetype": "text/x-python",
   "name": "python",
   "nbconvert_exporter": "python",
   "pygments_lexer": "ipython3",
   "version": "3.9.2"
  },
  "source_map": [
   18,
   27,
   62,
   75,
   203,
   218,
   240,
   244,
   261,
   283,
   299
  ]
 },
 "nbformat": 4,
 "nbformat_minor": 5
}